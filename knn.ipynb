{
 "cells": [
  {
   "cell_type": "code",
   "execution_count": 2,
   "metadata": {},
   "outputs": [
    {
     "name": "stderr",
     "output_type": "stream",
     "text": [
      "[nltk_data] Downloading package stopwords to C:\\Users\\Abdel\n",
      "[nltk_data]     Alim\\AppData\\Roaming\\nltk_data...\n",
      "[nltk_data]   Package stopwords is already up-to-date!\n"
     ]
    },
    {
     "data": {
      "text/plain": [
       "True"
      ]
     },
     "execution_count": 2,
     "metadata": {},
     "output_type": "execute_result"
    }
   ],
   "source": [
    "import pandas as pd\n",
    "import numpy as np\n",
    "import matplotlib.pyplot as plt\n",
    "from sklearn.model_selection import train_test_split\n",
    "from sklearn.feature_extraction.text import CountVectorizer\n",
    "from sklearn.neighbors import KNeighborsClassifier\n",
    "from sklearn.feature_extraction.text import TfidfVectorizer\n",
    "from sklearn.model_selection import GridSearchCV, cross_val_predict\n",
    "from sklearn.pipeline import Pipeline\n",
    "from sklearn.preprocessing import StandardScaler\n",
    "from sklearn.metrics import r2_score, mean_squared_error, accuracy_score\n",
    "from scipy import sparse\n",
    "from sklearn.pipeline import Pipeline\n",
    "from sklearn.model_selection import KFold, cross_val_score\n",
    "import joblib\n",
    "from nltk.corpus import stopwords\n",
    "import nltk\n",
    "nltk.download('stopwords')"
   ]
  },
  {
   "cell_type": "code",
   "execution_count": 4,
   "metadata": {},
   "outputs": [],
   "source": [
    "stop_words = set(stopwords.words('english'))\n",
    "def remove_stop(x):\n",
    "    return \" \".join([word for word in str(x).split() if word not in stop_words])\n",
    "def remove_multiple_spaces(x):\n",
    "    return \" \".join([word for word in str(x).split()])\n",
    "def preprocessing(data):\n",
    "    data = data.drop(['COMMENT_ID', 'AUTHOR', 'DATE'], axis=1)\n",
    "    data['CONTENT'] = data['CONTENT'].str.lower()\n",
    "    data['CONTENT'] = data['CONTENT'].str.replace(r'.com/(?:[a-zA-Z]|[0-9]|[$-_@.&+]|[!*\\(\\),])+',' ')\n",
    "    data['CONTENT'] = data['CONTENT'].str.replace(r'[^\\w\\s]',' ')\n",
    "    data['CONTENT'] = data['CONTENT'].apply(lambda x : remove_multiple_spaces(x))\n",
    "    data['CONTENT'] = data['CONTENT'].apply(lambda x : remove_stop(x))\n",
    "    data = data.drop_duplicates(subset='CONTENT', keep='first')\n",
    "    x = data['CONTENT']\n",
    "    y = data['CLASS']\n",
    "    return(x,y)\n",
    "\n",
    "\n"
   ]
  },
  {
   "cell_type": "code",
   "execution_count": 18,
   "metadata": {},
   "outputs": [
    {
     "name": "stderr",
     "output_type": "stream",
     "text": [
      "C:\\Users\\Abdel Alim\\AppData\\Local\\Temp\\ipykernel_17892\\3808629581.py:9: FutureWarning: The default value of regex will change from True to False in a future version.\n",
      "  data['CONTENT'] = data['CONTENT'].str.replace(r'.com/(?:[a-zA-Z]|[0-9]|[$-_@.&+]|[!*\\(\\),])+',' ')\n",
      "C:\\Users\\Abdel Alim\\AppData\\Local\\Temp\\ipykernel_17892\\3808629581.py:10: FutureWarning: The default value of regex will change from True to False in a future version.\n",
      "  data['CONTENT'] = data['CONTENT'].str.replace(r'[^\\w\\s]',' ')\n"
     ]
    },
    {
     "name": "stdout",
     "output_type": "stream",
     "text": [
      "1 1.0\n",
      "2 0.8953982300884954\n",
      "3 0.9517699115044248\n",
      "4 0.9017699115044246\n",
      "5 0.9308849557522123\n",
      "6 0.8819469026548673\n",
      "7 0.9067699115044247\n",
      "8 0.8692477876106196\n",
      "9 0.8880973451327434\n",
      "10 0.8552654867256635\n",
      "11 0.8852212389380533\n",
      "12 0.8416814159292035\n",
      "13 0.8638053097345133\n",
      "14 0.8253097345132743\n",
      "15 0.8524336283185842\n",
      "16 0.82429203539823\n",
      "17 0.8410176991150443\n",
      "18 0.798938053097345\n",
      "19 0.825\n",
      "20 0.7928761061946902\n",
      "21 0.8077876106194691\n",
      "22 0.7807079646017699\n",
      "23 0.7861504424778762\n",
      "24 0.7506194690265486\n",
      "25 0.7741150442477877\n",
      "26 0.7409734513274335\n",
      "27 0.7646902654867257\n",
      "28 0.7182743362831858\n",
      "29 0.7411061946902653\n",
      "30 0.7102212389380531\n",
      "31 0.7264601769911504\n",
      "32 0.6926548672566372\n",
      "33 0.7143362831858407\n",
      "34 0.6871238938053098\n",
      "35 0.6987610619469027\n",
      "36 0.6608407079646018\n",
      "37 0.6815044247787612\n",
      "38 0.6544690265486726\n",
      "39 0.6705309734513274\n",
      "40 0.6349999999999999\n",
      "41 0.6588495575221239\n",
      "42 0.6299115044247787\n",
      "43 0.634424778761062\n",
      "44 0.6180530973451328\n",
      "45 0.6400884955752213\n",
      "46 0.610929203539823\n",
      "47 0.6199557522123894\n",
      "48 0.6054867256637168\n",
      "49 0.6107079646017699\n",
      "50 0.6044690265486726\n",
      "51 0.6210176991150442\n",
      "52 0.597433628318584\n",
      "53 0.6106637168141593\n",
      "54 0.5957522123893805\n",
      "55 0.6078761061946902\n",
      "56 0.5983628318584071\n",
      "57 0.5984070796460178\n",
      "58 0.5885398230088495\n",
      "59 0.597345132743363\n",
      "60 0.5878318584070796\n",
      "61 0.593716814159292\n",
      "62 0.5851769911504426\n",
      "63 0.5984070796460177\n",
      "64 0.5819469026548673\n",
      "65 0.5907522123893805\n",
      "66 0.5780530973451328\n",
      "67 0.5878318584070796\n",
      "68 0.5760176991150442\n",
      "69 0.5816814159292035\n",
      "70 0.5712831858407079\n",
      "71 0.5872566371681417\n",
      "72 0.570575221238938\n",
      "73 0.5801327433628319\n",
      "74 0.5670353982300884\n",
      "75 0.5803097345132744\n",
      "76 0.5723451327433628\n",
      "77 0.5721238938053097\n",
      "78 0.5663716814159292\n",
      "79 0.5723008849557522\n",
      "80 0.5635840707964601\n",
      "81 0.5681858407079645\n",
      "82 0.5645575221238937\n",
      "83 0.5672566371681416\n",
      "84 0.5605309734513274\n",
      "85 0.5670353982300884\n",
      "86 0.5578761061946902\n",
      "87 0.5614159292035399\n",
      "88 0.5561504424778762\n",
      "89 0.5592477876106194\n",
      "90 0.5552212389380531\n",
      "91 0.5610619469026549\n",
      "92 0.5533628318584072\n",
      "93 0.5549999999999999\n",
      "94 0.551637168141593\n",
      "95 0.5514601769911504\n",
      "96 0.5483628318584072\n",
      "97 0.5494247787610618\n",
      "98 0.5450884955752212\n",
      "99 0.5504867256637168\n",
      "[5]\n"
     ]
    },
    {
     "data": {
      "text/plain": [
       "[<matplotlib.lines.Line2D at 0x1d7aed037c0>]"
      ]
     },
     "execution_count": 18,
     "metadata": {},
     "output_type": "execute_result"
    },
    {
     "data": {
      "image/png": "[encoded data removed]",
      "text/plain": [
       "<Figure size 432x288 with 1 Axes>"
      ]
     },
     "metadata": {
      "needs_background": "light"
     },
     "output_type": "display_data"
    }
   ],
   "source": [
    "data = pd.read_csv('theDataset/Youtube01-Psy.csv')\n",
    "x, y = preprocessing(data)\n",
    "\n",
    "vectorizer = CountVectorizer( )\n",
    "featuers = vectorizer.fit_transform(x)\n",
    "\n",
    "\n",
    "\n",
    "iter =100\n",
    "X_main, X_test,y_main, y_test = train_test_split(featuers,y ,\n",
    "                                   test_size = 0.2, \n",
    "                                   shuffle = True)\n",
    "accuracy_mean_train = []\n",
    "accuracy_mean_valid = []\n",
    "X_train, X_validat, y_train, y_validat = train_test_split(X_main,y_main ,\n",
    "                            test_size = 0.16,\n",
    "                            shuffle = True)\n",
    "for k in range(1, 100):\n",
    "    accuracyKTrain= []\n",
    "    accuracyKValid= []\n",
    "    \n",
    "    modle = KNeighborsClassifier(n_neighbors=k, metric='euclidean')\n",
    "    for i in range(iter):\n",
    "        X_train, X_validat, y_train, y_validat = train_test_split(X_main,y_main ,\n",
    "                                test_size = 0.16,\n",
    "                                shuffle = True)\n",
    "        modle.fit(X_train, y_train)\n",
    "        accuracyTrain = modle.score(X_train,y_train)\n",
    "        \n",
    "        accuracyValid = modle.score(X_validat,y_validat)\n",
    "        accuracyKTrain.append(accuracyTrain)\n",
    "        accuracyKValid.append(accuracyValid)\n",
    "        \n",
    "    e = np.array(accuracyKTrain)\n",
    "    f = np.array(accuracyKValid)\n",
    "        \n",
    "    print(k, e.mean())\n",
    "    accuracy_mean_train.append(e.mean())\n",
    "    accuracy_mean_valid.append(f.mean())\n",
    "    \n",
    "m = np.array(accuracy_mean_valid)\n",
    "bestK = np.where(m == m.max())\n",
    "n = np.array(accuracy_mean_train)\n",
    "\n",
    "print(bestK[0] + 1)\n",
    "plt.plot(range(1,100),m)\n",
    "plt.plot(range(1,100),n)\n",
    "\n"
   ]
  },
  {
   "cell_type": "code",
   "execution_count": 23,
   "metadata": {},
   "outputs": [
    {
     "data": {
      "text/plain": [
       "[<matplotlib.lines.Line2D at 0x1d7aed54910>]"
      ]
     },
     "execution_count": 23,
     "metadata": {},
     "output_type": "execute_result"
    },
    {
     "data": {
      "image/png": "[encoded data removed]",
      "text/plain": [
       "<Figure size 432x288 with 1 Axes>"
      ]
     },
     "metadata": {
      "needs_background": "light"
     },
     "output_type": "display_data"
    }
   ],
   "source": [
    "plt.plot(np.linspace(1, 20, 20),n[:20])\n",
    "plt.plot(np.linspace(1, 20, 20),m[:20])"
   ]
  },
  {
   "cell_type": "code",
   "execution_count": 25,
   "metadata": {},
   "outputs": [
    {
     "data": {
      "text/plain": [
       "0.8970588235294118"
      ]
     },
     "execution_count": 25,
     "metadata": {},
     "output_type": "execute_result"
    }
   ],
   "source": [
    "modle = KNeighborsClassifier(n_neighbors=3, metric='euclidean')\n",
    "modle.fit(X_train, y_train)\n",
    "modle.score(X_test,y_test)\n"
   ]
  },
  {
   "cell_type": "markdown",
   "metadata": {},
   "source": [
    "1\\. Import Data"
   ]
  },
  {
   "cell_type": "code",
   "execution_count": 2,
   "metadata": {},
   "outputs": [
    {
     "data": {
      "text/plain": [
       "CONTENT    0\n",
       "CLASS      0\n",
       "dtype: int64"
      ]
     },
     "execution_count": 2,
     "metadata": {},
     "output_type": "execute_result"
    }
   ],
   "source": [
    "data = pd.read_csv('theDataset/Youtube03-LMFAO.csv')\n",
    "\n",
    "data = data.drop(['COMMENT_ID', 'AUTHOR', 'DATE'], axis=1)\n",
    "# CONTENT / CLASS\n",
    "data.isnull().head().sum()\n"
   ]
  },
  {
   "cell_type": "markdown",
   "metadata": {},
   "source": [
    "2. PreProceessing"
   ]
  },
  {
   "cell_type": "code",
   "execution_count": 129,
   "metadata": {},
   "outputs": [
    {
     "data": {
      "text/plain": [
       "Check out this video on YouTube:﻿                   74\n",
       "Check out this playlist on YouTube:﻿                15\n",
       "Love this song makes me wanna dance! ﻿               3\n",
       "Check out this playlist on YouTube:<br /><br />﻿     2\n",
       "everyday I&#39;m shufflin﻿                           2\n",
       "                                                    ..\n",
       "this song is fu cking awesom!!!!!!!﻿                 1\n",
       "never gets old﻿                                      1\n",
       "Party time!﻿                                         1\n",
       "Damn, this was everywhere﻿                           1\n",
       "NICE :3﻿                                             1\n",
       "Name: CONTENT, Length: 340, dtype: int64"
      ]
     },
     "execution_count": 129,
     "metadata": {},
     "output_type": "execute_result"
    }
   ],
   "source": [
    "data[\"CONTENT\"].value_counts()\n"
   ]
  },
  {
   "cell_type": "code",
   "execution_count": 198,
   "metadata": {},
   "outputs": [
    {
     "name": "stdout",
     "output_type": "stream",
     "text": [
      "<class 'pandas.core.series.Series'>\n",
      "Int64Index: 333 entries, 0 to 437\n",
      "Series name: CLASS\n",
      "Non-Null Count  Dtype\n",
      "--------------  -----\n",
      "333 non-null    int64\n",
      "dtypes: int64(1)\n",
      "memory usage: 5.2 KB\n"
     ]
    }
   ],
   "source": [
    "y.info(\n",
    ")"
   ]
  },
  {
   "cell_type": "code",
   "execution_count": 130,
   "metadata": {},
   "outputs": [],
   "source": [
    "data['CONTENT'] = data['CONTENT'].str.lower()"
   ]
  },
  {
   "cell_type": "code",
   "execution_count": 131,
   "metadata": {},
   "outputs": [
    {
     "name": "stderr",
     "output_type": "stream",
     "text": [
      "C:\\Users\\Abdel Alim\\AppData\\Local\\Temp\\ipykernel_7592\\3125199810.py:1: FutureWarning: The default value of regex will change from True to False in a future version.\n",
      "  data['CONTENT'] = data['CONTENT'].str.replace(r'.com/(?:[a-zA-Z]|[0-9]|[$-_@.&+]|[!*\\(\\),])+',' ')\n"
     ]
    }
   ],
   "source": [
    "data['CONTENT'] = data['CONTENT'].str.replace(r'.com/(?:[a-zA-Z]|[0-9]|[$-_@.&+]|[!*\\(\\),])+',' ')\n"
   ]
  },
  {
   "cell_type": "markdown",
   "metadata": {},
   "source": [
    "2. Stop Words "
   ]
  },
  {
   "cell_type": "code",
   "execution_count": 132,
   "metadata": {},
   "outputs": [
    {
     "name": "stderr",
     "output_type": "stream",
     "text": [
      "[nltk_data] Downloading package stopwords to C:\\Users\\Abdel\n",
      "[nltk_data]     Alim\\AppData\\Roaming\\nltk_data...\n",
      "[nltk_data]   Package stopwords is already up-to-date!\n"
     ]
    },
    {
     "data": {
      "text/plain": [
       "True"
      ]
     },
     "execution_count": 132,
     "metadata": {},
     "output_type": "execute_result"
    }
   ],
   "source": [
    "from nltk.corpus import stopwords\n",
    "import nltk\n",
    "nltk.download('stopwords')\n"
   ]
  },
  {
   "cell_type": "code",
   "execution_count": 133,
   "metadata": {},
   "outputs": [],
   "source": [
    "stop_words = set(stopwords.words('english'))"
   ]
  },
  {
   "cell_type": "code",
   "execution_count": 135,
   "metadata": {},
   "outputs": [],
   "source": [
    "def remove_stop(x):\n",
    "    return \" \".join([word for word in str(x).split() if word not in stop_words])\n",
    "data['CONTENT'] = data['CONTENT'].apply(lambda x : remove_stop(x))"
   ]
  },
  {
   "cell_type": "code",
   "execution_count": 81,
   "metadata": {},
   "outputs": [
    {
     "name": "stderr",
     "output_type": "stream",
     "text": [
      "C:\\Users\\Abdel Alim\\AppData\\Local\\Temp\\ipykernel_7592\\1734438751.py:1: FutureWarning: The default value of regex will change from True to False in a future version.\n",
      "  x['CONTENT'] = x['CONTENT'].str.replace(r'[^\\w\\s]',' ')\n"
     ]
    }
   ],
   "source": [
    "data['CONTENT'] = data['CONTENT'].str.replace(r'[^\\w\\s]',' ')"
   ]
  },
  {
   "cell_type": "code",
   "execution_count": 82,
   "metadata": {},
   "outputs": [],
   "source": [
    "def remove_multiple_spaces(x):\n",
    "    return \" \".join([word for word in str(x).split()])\n",
    "data['CONTENT'] = data['CONTENT'].apply(lambda x : remove_multiple_spaces(x))"
   ]
  },
  {
   "cell_type": "code",
   "execution_count": 144,
   "metadata": {},
   "outputs": [],
   "source": [
    "data = data.drop_duplicates(subset='CONTENT', keep='first')"
   ]
  },
  {
   "cell_type": "code",
   "execution_count": 3,
   "metadata": {},
   "outputs": [],
   "source": [
    "x = data['CONTENT']\n",
    "y = data['CLASS']\n"
   ]
  },
  {
   "cell_type": "code",
   "execution_count": 4,
   "metadata": {},
   "outputs": [
    {
     "name": "stdout",
     "output_type": "stream",
     "text": [
      "  (0, 410)\t1\n",
      "  (0, 411)\t1\n",
      "  (0, 937)\t1\n",
      "  (0, 952)\t1\n",
      "  (0, 185)\t1\n",
      "  (0, 898)\t1\n",
      "  (0, 465)\t1\n",
      "  (0, 80)\t1\n",
      "  (0, 29)\t1\n",
      "  (0, 12)\t1\n",
      "  (0, 129)\t1\n",
      "  (0, 612)\t1\n",
      "  (1, 920)\t1\n",
      "  (1, 152)\t1\n",
      "  (1, 331)\t1\n",
      "  (2, 410)\t1\n",
      "  (2, 185)\t1\n",
      "  (2, 152)\t1\n",
      "  (2, 393)\t1\n",
      "  (2, 368)\t1\n",
      "  (2, 31)\t2\n",
      "  (2, 413)\t2\n",
      "  (2, 144)\t9\n",
      "  (2, 242)\t1\n",
      "  (2, 892)\t2\n",
      "  :\t:\n",
      "  (435, 95)\t1\n",
      "  (435, 847)\t1\n",
      "  (435, 291)\t1\n",
      "  (435, 120)\t1\n",
      "  (435, 568)\t1\n",
      "  (435, 824)\t1\n",
      "  (435, 673)\t1\n",
      "  (435, 395)\t1\n",
      "  (435, 343)\t1\n",
      "  (435, 520)\t1\n",
      "  (435, 632)\t1\n",
      "  (435, 902)\t1\n",
      "  (435, 844)\t1\n",
      "  (435, 238)\t1\n",
      "  (435, 579)\t1\n",
      "  (436, 816)\t1\n",
      "  (436, 314)\t1\n",
      "  (436, 836)\t1\n",
      "  (436, 865)\t1\n",
      "  (436, 516)\t1\n",
      "  (436, 409)\t1\n",
      "  (436, 219)\t1\n",
      "  (436, 505)\t1\n",
      "  (436, 705)\t1\n",
      "  (437, 570)\t1\n"
     ]
    }
   ],
   "source": [
    "# convert sting to numbers \n",
    "vectorizer = CountVectorizer( )\n",
    "featuers = vectorizer.fit_transform(x)\n",
    "print(featuers)"
   ]
  },
  {
   "cell_type": "code",
   "execution_count": 5,
   "metadata": {},
   "outputs": [],
   "source": [
    "modle = KNeighborsClassifier(n_neighbors=3)\n",
    "X_main, X_test,y_main, y_test = train_test_split(featuers,y ,\n",
    "                                   test_size = 0.2, \n",
    "                                   shuffle = True)\n",
    "X_train, X_validat, y_train, y_validat = train_test_split(X_main,y_main ,\n",
    "                                   test_size = 0.16,\n",
    "                                   shuffle = True)\n"
   ]
  },
  {
   "cell_type": "code",
   "execution_count": 6,
   "metadata": {},
   "outputs": [
    {
     "data": {
      "text/plain": [
       "[<matplotlib.lines.Line2D at 0x28fdec1db20>]"
      ]
     },
     "execution_count": 6,
     "metadata": {},
     "output_type": "execute_result"
    },
    {
     "data": {
      "image/png": "[encoded data removed]",
      "text/plain": [
       "<Figure size 432x288 with 1 Axes>"
      ]
     },
     "metadata": {
      "needs_background": "light"
     },
     "output_type": "display_data"
    }
   ],
   "source": [
    "a = []\n",
    "b =  range(1,10)\n",
    "for i in b:\n",
    "    modle = KNeighborsClassifier(n_neighbors=i, metric='euclidean')\n",
    "    modle.fit(X_train, y_train)\n",
    "    y_predict = modle.predict(X_test)\n",
    "    \n",
    "    a.append(accuracy_score(y_predict, y_test)) \n",
    "plt.plot(b, a)"
   ]
  },
  {
   "cell_type": "code",
   "execution_count": 7,
   "metadata": {},
   "outputs": [
    {
     "data": {
      "text/plain": [
       "array([1, 0, 0, 0, 0, 0, 1, 0, 0, 1, 0, 0, 0, 0, 0, 0, 1, 1, 0, 1, 1, 1,\n",
       "       1, 1, 1, 0, 0, 0, 0, 1, 0, 1, 1, 1, 1, 1, 1, 0, 0, 1, 1, 1, 0, 1,\n",
       "       1, 1, 1, 0, 1, 1, 0, 1, 1, 1, 0, 1, 1, 0, 0, 0, 1, 0, 0, 0, 1, 0,\n",
       "       1, 0, 1, 1, 0, 1, 1, 0, 0, 1, 1, 1, 1, 0, 1, 0, 1, 0, 1, 1, 0, 1],\n",
       "      dtype=int64)"
      ]
     },
     "execution_count": 7,
     "metadata": {},
     "output_type": "execute_result"
    }
   ],
   "source": [
    "y_predict"
   ]
  },
  {
   "cell_type": "code",
   "execution_count": 174,
   "metadata": {},
   "outputs": [
    {
     "name": "stdout",
     "output_type": "stream",
     "text": [
      "0.9069767441860465\n",
      "0.9302325581395349\n",
      "0.9534883720930233\n",
      "0.9767441860465116\n",
      "1.0\n"
     ]
    }
   ],
   "source": [
    "a = []\n",
    "modle = KNeighborsClassifier(n_neighbors=3, metric='euclidean')\n",
    "iter =10000\n",
    "maxacurssy = 0.89\n",
    "bestX_train, bestX_test,besty_train,besty_test = X_train, X_validat,y_train, y_validat\n",
    "\n",
    "for i in range(iter):\n",
    "    X_train, X_validat, y_train, y_validat = train_test_split(X_main,y_main ,\n",
    "                                   test_size = 0.16,\n",
    "                                   shuffle = True)\n",
    "    modle.fit(X_train, y_train)\n",
    "    accuracy = modle.score(X_validat,y_validat)\n",
    "    a.append(accuracy)\n",
    "    if maxacurssy < accuracy:\n",
    "        joblib.dump(modle,'nahini.joblib')\n",
    "        maxacurssy = accuracy\n",
    "        print(maxacurssy)\n",
    "        bestX_train, bestX_test,besty_train,besty_test = X_train, X_validat,y_train, y_validat"
   ]
  },
  {
   "cell_type": "code",
   "execution_count": 161,
   "metadata": {},
   "outputs": [
    {
     "data": {
      "text/plain": [
       "KNeighborsClassifier(metric='euclidean', n_neighbors=3)"
      ]
     },
     "execution_count": 161,
     "metadata": {},
     "output_type": "execute_result"
    }
   ],
   "source": [
    "modle.fit(bestX_train, besty_train)"
   ]
  },
  {
   "cell_type": "code",
   "execution_count": 162,
   "metadata": {},
   "outputs": [
    {
     "name": "stdout",
     "output_type": "stream",
     "text": [
      "0.9166666666666666\n"
     ]
    }
   ],
   "source": [
    "y_predict = modle.predict(X_test)\n",
    "print(accuracy_score(y_predict, y_test))"
   ]
  },
  {
   "cell_type": "code",
   "execution_count": 191,
   "metadata": {},
   "outputs": [
    {
     "name": "stdout",
     "output_type": "stream",
     "text": [
      "0.9047619047619048\n",
      "0.9166666666666666\n",
      "0.9285714285714286\n",
      "0.9523809523809523\n",
      "0.9642857142857143\n",
      "0.9761904761904762\n"
     ]
    }
   ],
   "source": [
    "a = []\n",
    "modle = KNeighborsClassifier(n_neighbors=3, metric='euclidean')\n",
    "iter =10000\n",
    "maxacurssy = 0.89\n",
    "bestX_train, bestX_test,besty_train,besty_test = X_train, X_test,y_train, y_test \n",
    "for i in range(iter):\n",
    "    X_train, X_test,y_train, y_test = train_test_split(featuers,y ,\n",
    "                                   test_size=0.25,\n",
    "                                   shuffle=True)\n",
    "    modle.fit(X_train, y_train)\n",
    "    accuracy = modle.score(X_test,y_test)\n",
    "    a.append(accuracy)\n",
    "    if maxacurssy <accuracy:\n",
    "        joblib.dump(modle,'nahini.joblib')\n",
    "        maxacurssy = accuracy\n",
    "        print(maxacurssy)\n",
    "        bestX_train, bestX_test, besty_train, besty_test = X_train, X_test, y_train, y_test"
   ]
  },
  {
   "cell_type": "code",
   "execution_count": 194,
   "metadata": {},
   "outputs": [
    {
     "name": "stdout",
     "output_type": "stream",
     "text": [
      "0.8691416666666666\n"
     ]
    }
   ],
   "source": [
    "ap = np.array(a)\n",
    "print(ap.mean())"
   ]
  },
  {
   "cell_type": "code",
   "execution_count": 196,
   "metadata": {},
   "outputs": [
    {
     "name": "stdout",
     "output_type": "stream",
     "text": [
      "0.8690476190476191\n"
     ]
    }
   ],
   "source": [
    "y_predict = modle.predict(X_test)\n",
    "\n",
    "print(accuracy_score(y_predict, y_test))"
   ]
  },
  {
   "cell_type": "code",
   "execution_count": 19,
   "metadata": {},
   "outputs": [],
   "source": [
    "def predictWithKnn(x, model, vectorizer):\n",
    "    \n",
    "    featuerspre = vectorizer.transform([str(x)])\n",
    "    y_pred = modle.predict(x)\n",
    "    return y_pred"
   ]
  },
  {
   "cell_type": "code",
   "execution_count": null,
   "metadata": {},
   "outputs": [],
   "source": []
  }
 ],
 "metadata": {
  "kernelspec": {
   "display_name": "Python 3 (ipykernel)",
   "language": "python",
   "name": "python3"
  },
  "language_info": {
   "codemirror_mode": {
    "name": "ipython",
    "version": 3
   },
   "file_extension": ".py",
   "mimetype": "text/x-python",
   "name": "python",
   "nbconvert_exporter": "python",
   "pygments_lexer": "ipython3",
   "version": "3.9.12 (main, Apr  4 2022, 05:22:27) [MSC v.1916 64 bit (AMD64)]"
  },
  "vscode": {
   "interpreter": {
    "hash": "66abd9c73c372f28a8ef98b8462078e3c895e5bf5441957c690bca4abf6b5117"
   }
  }
 },
 "nbformat": 4,
 "nbformat_minor": 2
}
