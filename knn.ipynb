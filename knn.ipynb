{
 "cells": [
  {
   "cell_type": "code",
   "execution_count": 2,
   "metadata": {},
   "outputs": [],
   "source": [
    "import pandas as pd\n",
    "import numpy as np\n",
    "import matplotlib.pyplot as plt\n",
    "from sklearn.model_selection import train_test_split\n",
    "from sklearn.feature_extraction.text import CountVectorizer\n",
    "from sklearn.neighbors import KNeighborsClassifier\n",
    "from sklearn.feature_extraction.text import TfidfVectorizer\n",
    "from sklearn.model_selection import GridSearchCV, cross_val_predict\n",
    "from sklearn.pipeline import Pipeline\n",
    "from sklearn.preprocessing import StandardScaler\n",
    "from sklearn.metrics import r2_score, mean_squared_error, accuracy_score\n",
    "from scipy import sparse\n",
    "from sklearn.pipeline import Pipeline\n",
    "from sklearn.model_selection import KFold, cross_val_score\n",
    "import joblib"
   ]
  },
  {
   "cell_type": "markdown",
   "metadata": {},
   "source": [
    "1\\. Import Data"
   ]
  },
  {
   "cell_type": "code",
   "execution_count": 128,
   "metadata": {},
   "outputs": [],
   "source": [
    "data = pd.read_csv('theDataset/Youtube03-LMFAO.csv')\n",
    "\n",
    "data = data.drop(['COMMENT_ID', 'AUTHOR', 'DATE'], axis=1)\n",
    "# CONTENT / CLASS\n"
   ]
  },
  {
   "cell_type": "markdown",
   "metadata": {},
   "source": [
    "2. PreProceessing"
   ]
  },
  {
   "cell_type": "code",
   "execution_count": 129,
   "metadata": {},
   "outputs": [
    {
     "data": {
      "text/plain": [
       "Check out this video on YouTube:﻿                   74\n",
       "Check out this playlist on YouTube:﻿                15\n",
       "Love this song makes me wanna dance! ﻿               3\n",
       "Check out this playlist on YouTube:<br /><br />﻿     2\n",
       "everyday I&#39;m shufflin﻿                           2\n",
       "                                                    ..\n",
       "this song is fu cking awesom!!!!!!!﻿                 1\n",
       "never gets old﻿                                      1\n",
       "Party time!﻿                                         1\n",
       "Damn, this was everywhere﻿                           1\n",
       "NICE :3﻿                                             1\n",
       "Name: CONTENT, Length: 340, dtype: int64"
      ]
     },
     "execution_count": 129,
     "metadata": {},
     "output_type": "execute_result"
    }
   ],
   "source": [
    "data[\"CONTENT\"].value_counts()\n"
   ]
  },
  {
   "cell_type": "code",
   "execution_count": null,
   "metadata": {},
   "outputs": [],
   "source": []
  },
  {
   "cell_type": "code",
   "execution_count": 130,
   "metadata": {},
   "outputs": [],
   "source": [
    "data['CONTENT'] = data['CONTENT'].str.lower()"
   ]
  },
  {
   "cell_type": "code",
   "execution_count": 131,
   "metadata": {},
   "outputs": [
    {
     "name": "stderr",
     "output_type": "stream",
     "text": [
      "C:\\Users\\Abdel Alim\\AppData\\Local\\Temp\\ipykernel_7592\\3125199810.py:1: FutureWarning: The default value of regex will change from True to False in a future version.\n",
      "  data['CONTENT'] = data['CONTENT'].str.replace(r'.com/(?:[a-zA-Z]|[0-9]|[$-_@.&+]|[!*\\(\\),])+',' ')\n"
     ]
    }
   ],
   "source": [
    "data['CONTENT'] = data['CONTENT'].str.replace(r'.com/(?:[a-zA-Z]|[0-9]|[$-_@.&+]|[!*\\(\\),])+',' ')"
   ]
  },
  {
   "cell_type": "markdown",
   "metadata": {},
   "source": [
    "2. Stop Words "
   ]
  },
  {
   "cell_type": "code",
   "execution_count": 132,
   "metadata": {},
   "outputs": [
    {
     "name": "stderr",
     "output_type": "stream",
     "text": [
      "[nltk_data] Downloading package stopwords to C:\\Users\\Abdel\n",
      "[nltk_data]     Alim\\AppData\\Roaming\\nltk_data...\n",
      "[nltk_data]   Package stopwords is already up-to-date!\n"
     ]
    },
    {
     "data": {
      "text/plain": [
       "True"
      ]
     },
     "execution_count": 132,
     "metadata": {},
     "output_type": "execute_result"
    }
   ],
   "source": [
    "from nltk.corpus import stopwords\n",
    "import nltk\n",
    "nltk.download('stopwords')\n"
   ]
  },
  {
   "cell_type": "code",
   "execution_count": 133,
   "metadata": {},
   "outputs": [],
   "source": [
    "stop_words = set(stopwords.words('english'))"
   ]
  },
  {
   "cell_type": "code",
   "execution_count": 135,
   "metadata": {},
   "outputs": [],
   "source": [
    "def remove_stop(x):\n",
    "    return \" \".join([word for word in str(x).split() if word not in stop_words])\n",
    "data['CONTENT'] = data['CONTENT'].apply(lambda x : remove_stop(x))"
   ]
  },
  {
   "cell_type": "code",
   "execution_count": 81,
   "metadata": {},
   "outputs": [
    {
     "name": "stderr",
     "output_type": "stream",
     "text": [
      "C:\\Users\\Abdel Alim\\AppData\\Local\\Temp\\ipykernel_7592\\1734438751.py:1: FutureWarning: The default value of regex will change from True to False in a future version.\n",
      "  x['CONTENT'] = x['CONTENT'].str.replace(r'[^\\w\\s]',' ')\n"
     ]
    }
   ],
   "source": [
    "data['CONTENT'] = data['CONTENT'].str.replace(r'[^\\w\\s]',' ')"
   ]
  },
  {
   "cell_type": "code",
   "execution_count": 82,
   "metadata": {},
   "outputs": [],
   "source": [
    "def remove_multiple_spaces(x):\n",
    "    return \" \".join([word for word in str(x).split()])\n",
    "data['CONTENT'] = data['CONTENT'].apply(lambda x : remove_multiple_spaces(x))"
   ]
  },
  {
   "cell_type": "code",
   "execution_count": 144,
   "metadata": {},
   "outputs": [],
   "source": [
    "data = data.drop_duplicates(subset='CONTENT', keep='first')"
   ]
  },
  {
   "cell_type": "code",
   "execution_count": 145,
   "metadata": {},
   "outputs": [],
   "source": [
    "x = data['CONTENT']\n",
    "y = data['CLASS']"
   ]
  },
  {
   "cell_type": "code",
   "execution_count": 146,
   "metadata": {},
   "outputs": [
    {
     "name": "stdout",
     "output_type": "stream",
     "text": [
      "  (0, 371)\t1\n",
      "  (0, 372)\t1\n",
      "  (0, 851)\t1\n",
      "  (0, 865)\t1\n",
      "  (0, 10)\t1\n",
      "  (0, 104)\t1\n",
      "  (0, 555)\t1\n",
      "  (1, 835)\t1\n",
      "  (1, 298)\t1\n",
      "  (2, 371)\t1\n",
      "  (2, 355)\t1\n",
      "  (2, 335)\t1\n",
      "  (2, 23)\t2\n",
      "  (2, 374)\t2\n",
      "  (2, 119)\t9\n",
      "  (2, 127)\t1\n",
      "  (2, 211)\t1\n",
      "  (2, 815)\t2\n",
      "  (2, 658)\t1\n",
      "  (2, 295)\t2\n",
      "  (2, 311)\t1\n",
      "  (2, 61)\t1\n",
      "  (2, 502)\t1\n",
      "  (2, 732)\t2\n",
      "  (2, 230)\t1\n",
      "  :\t:\n",
      "  (330, 469)\t1\n",
      "  (330, 689)\t1\n",
      "  (330, 455)\t1\n",
      "  (330, 463)\t1\n",
      "  (330, 763)\t1\n",
      "  (330, 84)\t1\n",
      "  (330, 587)\t1\n",
      "  (330, 803)\t1\n",
      "  (330, 259)\t1\n",
      "  (330, 520)\t1\n",
      "  (330, 613)\t1\n",
      "  (330, 357)\t1\n",
      "  (330, 310)\t1\n",
      "  (330, 476)\t1\n",
      "  (330, 574)\t1\n",
      "  (330, 824)\t1\n",
      "  (330, 771)\t1\n",
      "  (330, 208)\t1\n",
      "  (330, 529)\t1\n",
      "  (331, 763)\t1\n",
      "  (331, 472)\t1\n",
      "  (331, 191)\t1\n",
      "  (331, 462)\t1\n",
      "  (331, 644)\t1\n",
      "  (332, 522)\t1\n"
     ]
    }
   ],
   "source": [
    "# convert sting to numbers \n",
    "vectorizer = CountVectorizer( )\n",
    "featuers = vectorizer.fit_transform(x)\n",
    "print(featuers)"
   ]
  },
  {
   "cell_type": "code",
   "execution_count": 147,
   "metadata": {},
   "outputs": [],
   "source": [
    "modle = KNeighborsClassifier(n_neighbors=3)\n",
    "X_main, X_test,y_main, y_test = train_test_split(featuers,y ,\n",
    "                                   test_size = 0.2, \n",
    "                                   shuffle = True)\n",
    "X_train, X_validat, y_train, y_validat = train_test_split(X_main,y_main ,\n",
    "                                   test_size = 0.16,\n",
    "                                   shuffle = True)\n"
   ]
  },
  {
   "cell_type": "code",
   "execution_count": 195,
   "metadata": {},
   "outputs": [
    {
     "data": {
      "text/plain": [
       "[<matplotlib.lines.Line2D at 0x1dc0522fb20>]"
      ]
     },
     "execution_count": 195,
     "metadata": {},
     "output_type": "execute_result"
    },
    {
     "data": {
      "image/png": "[encoded data removed]",
      "text/plain": [
       "<Figure size 432x288 with 1 Axes>"
      ]
     },
     "metadata": {
      "needs_background": "light"
     },
     "output_type": "display_data"
    }
   ],
   "source": [
    "a = []\n",
    "b =  range(1,10)\n",
    "for i in b:\n",
    "    modle = KNeighborsClassifier(n_neighbors=i, metric='euclidean')\n",
    "    modle.fit(X_train, y_train)\n",
    "    y_predict = modle.predict(bestX_test)\n",
    "    \n",
    "    a.append(accuracy_score(y_predict, besty_test)) \n",
    "plt.plot(b, a)"
   ]
  },
  {
   "cell_type": "code",
   "execution_count": 174,
   "metadata": {},
   "outputs": [
    {
     "name": "stdout",
     "output_type": "stream",
     "text": [
      "0.9069767441860465\n",
      "0.9302325581395349\n",
      "0.9534883720930233\n",
      "0.9767441860465116\n",
      "1.0\n"
     ]
    }
   ],
   "source": [
    "a = []\n",
    "modle = KNeighborsClassifier(n_neighbors=3, metric='euclidean')\n",
    "iter =10000\n",
    "maxacurssy = 0.89\n",
    "bestX_train, bestX_test,besty_train,besty_test = X_train, X_validat,y_train, y_validat\n",
    "\n",
    "for i in range(iter):\n",
    "    X_train, X_validat, y_train, y_validat = train_test_split(X_main,y_main ,\n",
    "                                   test_size = 0.16,\n",
    "                                   shuffle = True)\n",
    "    modle.fit(X_train, y_train)\n",
    "    accuracy = modle.score(X_validat,y_validat)\n",
    "    a.append(accuracy)\n",
    "    if maxacurssy <accuracy:\n",
    "        joblib.dump(modle,'nahini.joblib')\n",
    "        maxacurssy = accuracy\n",
    "        print(maxacurssy)\n",
    "        bestX_train, bestX_test,besty_train,besty_test = X_train, X_validat,y_train, y_validat"
   ]
  },
  {
   "cell_type": "code",
   "execution_count": 161,
   "metadata": {},
   "outputs": [
    {
     "data": {
      "text/plain": [
       "KNeighborsClassifier(metric='euclidean', n_neighbors=3)"
      ]
     },
     "execution_count": 161,
     "metadata": {},
     "output_type": "execute_result"
    }
   ],
   "source": [
    "modle.fit(bestX_train, besty_train)"
   ]
  },
  {
   "cell_type": "code",
   "execution_count": 162,
   "metadata": {},
   "outputs": [
    {
     "name": "stdout",
     "output_type": "stream",
     "text": [
      "0.9166666666666666\n"
     ]
    }
   ],
   "source": [
    "y_predict = modle.predict(X_test)\n",
    "print(accuracy_score(y_predict, y_test))"
   ]
  },
  {
   "cell_type": "code",
   "execution_count": 191,
   "metadata": {},
   "outputs": [
    {
     "name": "stdout",
     "output_type": "stream",
     "text": [
      "0.9047619047619048\n",
      "0.9166666666666666\n",
      "0.9285714285714286\n",
      "0.9523809523809523\n",
      "0.9642857142857143\n",
      "0.9761904761904762\n"
     ]
    }
   ],
   "source": [
    "a = []\n",
    "modle = KNeighborsClassifier(n_neighbors=3, metric='euclidean')\n",
    "iter =10000\n",
    "maxacurssy = 0.89\n",
    "bestX_train, bestX_test,besty_train,besty_test = X_train, X_test,y_train, y_test \n",
    "for i in range(iter):\n",
    "    X_train, X_test,y_train, y_test = train_test_split(featuers,y ,\n",
    "                                   test_size=0.25,\n",
    "                                   shuffle=True)\n",
    "    modle.fit(X_train, y_train)\n",
    "    accuracy = modle.score(X_test,y_test)\n",
    "    a.append(accuracy)\n",
    "    if maxacurssy <accuracy:\n",
    "        joblib.dump(modle,'nahini.joblib')\n",
    "        maxacurssy = accuracy\n",
    "        print(maxacurssy)\n",
    "        bestX_train, bestX_test, besty_train, besty_test = X_train, X_test, y_train, y_test"
   ]
  },
  {
   "cell_type": "code",
   "execution_count": 194,
   "metadata": {},
   "outputs": [
    {
     "name": "stdout",
     "output_type": "stream",
     "text": [
      "0.8691416666666666\n"
     ]
    }
   ],
   "source": [
    "ap = np.array(a)\n",
    "print(ap.mean())"
   ]
  },
  {
   "cell_type": "code",
   "execution_count": 196,
   "metadata": {},
   "outputs": [
    {
     "name": "stdout",
     "output_type": "stream",
     "text": [
      "0.8690476190476191\n"
     ]
    }
   ],
   "source": [
    "y_predict = modle.predict(X_test)\n",
    "\n",
    "print(accuracy_score(y_predict, y_test))"
   ]
  },
  {
   "cell_type": "code",
   "execution_count": 19,
   "metadata": {},
   "outputs": [],
   "source": [
    "def predictWithKnn(x, model, vectorizer):\n",
    "    \n",
    "    featuerspre = vectorizer.transform([str(x)])\n",
    "    y_pred = modle.predict(x)\n",
    "    return y_pred"
   ]
  },
  {
   "cell_type": "code",
   "execution_count": null,
   "metadata": {},
   "outputs": [],
   "source": []
  }
 ],
 "metadata": {
  "kernelspec": {
   "display_name": "Python 3 (ipykernel)",
   "language": "python",
   "name": "python3"
  },
  "language_info": {
   "codemirror_mode": {
    "name": "ipython",
    "version": 3
   },
   "file_extension": ".py",
   "mimetype": "text/x-python",
   "name": "python",
   "nbconvert_exporter": "python",
   "pygments_lexer": "ipython3",
   "version": "3.9.12"
  },
  "vscode": {
   "interpreter": {
    "hash": "66abd9c73c372f28a8ef98b8462078e3c895e5bf5441957c690bca4abf6b5117"
   }
  }
 },
 "nbformat": 4,
 "nbformat_minor": 2
}
