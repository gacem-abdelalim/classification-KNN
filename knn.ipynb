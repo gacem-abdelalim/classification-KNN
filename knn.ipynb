{
 "cells": [
  {
   "cell_type": "code",
   "execution_count": 33,
   "metadata": {},
   "outputs": [
    {
     "name": "stderr",
     "output_type": "stream",
     "text": [
      "[nltk_data] Downloading package stopwords to C:\\Users\\Abdel\n",
      "[nltk_data]     Alim\\AppData\\Roaming\\nltk_data...\n",
      "[nltk_data]   Package stopwords is already up-to-date!\n"
     ]
    },
    {
     "data": {
      "text/plain": [
       "True"
      ]
     },
     "execution_count": 33,
     "metadata": {},
     "output_type": "execute_result"
    }
   ],
   "source": [
    "import pandas as pd\n",
    "import numpy as np\n",
    "import matplotlib.pyplot as plt\n",
    "from sklearn.model_selection import train_test_split\n",
    "from sklearn.feature_extraction.text import CountVectorizer\n",
    "from sklearn.neighbors import KNeighborsClassifier\n",
    "from sklearn.feature_extraction.text import TfidfVectorizer\n",
    "from sklearn.model_selection import GridSearchCV, cross_val_predict\n",
    "from sklearn.pipeline import Pipeline\n",
    "from sklearn.preprocessing import StandardScaler\n",
    "from sklearn.metrics import r2_score, mean_squared_error, accuracy_score\n",
    "from scipy import sparse\n",
    "from sklearn.pipeline import Pipeline\n",
    "from sklearn.model_selection import KFold, cross_val_score\n",
    "import joblib\n",
    "from nltk.corpus import stopwords\n",
    "import nltk\n",
    "nltk.download('stopwords')"
   ]
  },
  {
   "cell_type": "code",
   "execution_count": 39,
   "metadata": {},
   "outputs": [],
   "source": [
    "stop_words = set(stopwords.words('english'))\n",
    "def remove_stop(x):\n",
    "    return \" \".join([word for word in str(x).split() if word not in stop_words])\n",
    "def remove_multiple_spaces(x):\n",
    "    return \" \".join([word for word in str(x).split()])\n",
    "def preprocessing(data):\n",
    "    data = data.drop(['COMMENT_ID', 'AUTHOR', 'DATE'], axis=1)\n",
    "    data['CONTENT'] = data['CONTENT'].str.lower()\n",
    "    data['CONTENT'] = data['CONTENT'].str.replace(r'.com/(?:[a-zA-Z]|[0-9]|[$-_@.&+]|[!*\\(\\),])+',' ')\n",
    "    data['CONTENT'] = data['CONTENT'].str.replace(r'[^\\w\\s]',' ')\n",
    "    data['CONTENT'] = data['CONTENT'].apply(lambda x : remove_multiple_spaces(x))\n",
    "    data['CONTENT'] = data['CONTENT'].apply(lambda x : remove_stop(x))\n",
    "    data = data.drop_duplicates(subset='CONTENT', keep='first')\n",
    "    x = data['CONTENT']\n",
    "    y = data['CLASS']\n",
    "    return(x,y)\n",
    "    \"\"\"\n",
    "    \n",
    "    \n",
    "def best_k(X_main, y_main):\n",
    "    \n",
    "    X_train, X_validat, y_train, y_validat = train_test_split(X_main,y_main ,\n",
    "                            test_size = 0.16,\n",
    "                            shuffle = True)\n",
    "    \n",
    "    \n",
    "    accuracy_mean_train = []\n",
    "    accuracy_mean_valid = []\n",
    "    for k in range(1, 100):\n",
    "        accuracyKTrain= []\n",
    "        accuracyKValid= []\n",
    "        \n",
    "        modle = KNeighborsClassifier(n_neighbors=k, metric='euclidean')\n",
    "        for i in range(iter):\n",
    "            modle.fit(X_train, y_train)\n",
    "            accuracyValid = modle.score(X_validat,y_validat)\n",
    "            accuracyKValid.append(accuracyValid)\n",
    "            \n",
    "        f = np.array(accuracyKValid)\n",
    "        \n",
    "        accuracy_mean_valid.append(f.mean())\n",
    "    \n",
    "    return(,)\n",
    "    \n",
    "    \"\"\"\n"
   ]
  },
  {
   "cell_type": "code",
   "execution_count": 38,
   "metadata": {},
   "outputs": [
    {
     "name": "stderr",
     "output_type": "stream",
     "text": [
      "C:\\Users\\Abdel Alim\\AppData\\Local\\Temp\\ipykernel_18204\\4279567244.py:9: FutureWarning: The default value of regex will change from True to False in a future version.\n",
      "  data['CONTENT'] = data['CONTENT'].str.replace(r'.com/(?:[a-zA-Z]|[0-9]|[$-_@.&+]|[!*\\(\\),])+',' ')\n",
      "C:\\Users\\Abdel Alim\\AppData\\Local\\Temp\\ipykernel_18204\\4279567244.py:10: FutureWarning: The default value of regex will change from True to False in a future version.\n",
      "  data['CONTENT'] = data['CONTENT'].str.replace(r'[^\\w\\s]',' ')\n"
     ]
    },
    {
     "name": "stdout",
     "output_type": "stream",
     "text": [
      "1 0.9117647058823529\n",
      "2 0.8235294117647061\n",
      "3 0.9117647058823529\n",
      "4 0.8676470588235294\n",
      "5 0.8970588235294115\n",
      "6 0.8529411764705884\n",
      "7 0.8529411764705884\n"
     ]
    },
    {
     "ename": "KeyboardInterrupt",
     "evalue": "",
     "output_type": "error",
     "traceback": [
      "\u001b[1;31m---------------------------------------------------------------------------\u001b[0m",
      "\u001b[1;31mKeyboardInterrupt\u001b[0m                         Traceback (most recent call last)",
      "\u001b[1;32mc:\\Users\\Abdel Alim\\Documents\\GitHub\\classification-KNN\\knn.ipynb Cell 3\u001b[0m in \u001b[0;36m<cell line: 17>\u001b[1;34m()\u001b[0m\n\u001b[0;32m     <a href='vscode-notebook-cell:/c%3A/Users/Abdel%20Alim/Documents/GitHub/classification-KNN/knn.ipynb#X40sZmlsZQ%3D%3D?line=20'>21</a>\u001b[0m modle \u001b[39m=\u001b[39m KNeighborsClassifier(n_neighbors\u001b[39m=\u001b[39mk, metric\u001b[39m=\u001b[39m\u001b[39m'\u001b[39m\u001b[39meuclidean\u001b[39m\u001b[39m'\u001b[39m)\n\u001b[0;32m     <a href='vscode-notebook-cell:/c%3A/Users/Abdel%20Alim/Documents/GitHub/classification-KNN/knn.ipynb#X40sZmlsZQ%3D%3D?line=21'>22</a>\u001b[0m \u001b[39mfor\u001b[39;00m i \u001b[39min\u001b[39;00m \u001b[39mrange\u001b[39m(\u001b[39miter\u001b[39m):\n\u001b[1;32m---> <a href='vscode-notebook-cell:/c%3A/Users/Abdel%20Alim/Documents/GitHub/classification-KNN/knn.ipynb#X40sZmlsZQ%3D%3D?line=22'>23</a>\u001b[0m     modle\u001b[39m.\u001b[39;49mfit(X_train, y_train)\n\u001b[0;32m     <a href='vscode-notebook-cell:/c%3A/Users/Abdel%20Alim/Documents/GitHub/classification-KNN/knn.ipynb#X40sZmlsZQ%3D%3D?line=23'>24</a>\u001b[0m     accuracyTrain \u001b[39m=\u001b[39m modle\u001b[39m.\u001b[39mscore(X_test,y_test)\n\u001b[0;32m     <a href='vscode-notebook-cell:/c%3A/Users/Abdel%20Alim/Documents/GitHub/classification-KNN/knn.ipynb#X40sZmlsZQ%3D%3D?line=24'>25</a>\u001b[0m     accuracyValid \u001b[39m=\u001b[39m modle\u001b[39m.\u001b[39mscore(X_validat,y_validat)\n",
      "File \u001b[1;32mc:\\Users\\Abdel Alim\\anaconda3\\lib\\site-packages\\sklearn\\neighbors\\_classification.py:198\u001b[0m, in \u001b[0;36mKNeighborsClassifier.fit\u001b[1;34m(self, X, y)\u001b[0m\n\u001b[0;32m    179\u001b[0m \u001b[39m\"\"\"Fit the k-nearest neighbors classifier from the training dataset.\u001b[39;00m\n\u001b[0;32m    180\u001b[0m \n\u001b[0;32m    181\u001b[0m \u001b[39mParameters\u001b[39;00m\n\u001b[1;32m   (...)\u001b[0m\n\u001b[0;32m    194\u001b[0m \u001b[39m    The fitted k-nearest neighbors classifier.\u001b[39;00m\n\u001b[0;32m    195\u001b[0m \u001b[39m\"\"\"\u001b[39;00m\n\u001b[0;32m    196\u001b[0m \u001b[39mself\u001b[39m\u001b[39m.\u001b[39mweights \u001b[39m=\u001b[39m _check_weights(\u001b[39mself\u001b[39m\u001b[39m.\u001b[39mweights)\n\u001b[1;32m--> 198\u001b[0m \u001b[39mreturn\u001b[39;00m \u001b[39mself\u001b[39;49m\u001b[39m.\u001b[39;49m_fit(X, y)\n",
      "File \u001b[1;32mc:\\Users\\Abdel Alim\\anaconda3\\lib\\site-packages\\sklearn\\neighbors\\_base.py:515\u001b[0m, in \u001b[0;36mNeighborsBase._fit\u001b[1;34m(self, X, y)\u001b[0m\n\u001b[0;32m    505\u001b[0m \u001b[39mif\u001b[39;00m \u001b[39mself\u001b[39m\u001b[39m.\u001b[39meffective_metric_ \u001b[39mnot\u001b[39;00m \u001b[39min\u001b[39;00m VALID_METRICS_SPARSE[\n\u001b[0;32m    506\u001b[0m     \u001b[39m\"\u001b[39m\u001b[39mbrute\u001b[39m\u001b[39m\"\u001b[39m\n\u001b[0;32m    507\u001b[0m ] \u001b[39mand\u001b[39;00m \u001b[39mnot\u001b[39;00m callable(\u001b[39mself\u001b[39m\u001b[39m.\u001b[39meffective_metric_):\n\u001b[0;32m    508\u001b[0m     \u001b[39mraise\u001b[39;00m \u001b[39mValueError\u001b[39;00m(\n\u001b[0;32m    509\u001b[0m         \u001b[39m\"\u001b[39m\u001b[39mMetric \u001b[39m\u001b[39m'\u001b[39m\u001b[39m%s\u001b[39;00m\u001b[39m'\u001b[39m\u001b[39m not valid for sparse input. \u001b[39m\u001b[39m\"\u001b[39m\n\u001b[0;32m    510\u001b[0m         \u001b[39m\"\u001b[39m\u001b[39mUse sorted(sklearn.neighbors.\u001b[39m\u001b[39m\"\u001b[39m\n\u001b[1;32m   (...)\u001b[0m\n\u001b[0;32m    513\u001b[0m         \u001b[39m\"\u001b[39m\u001b[39mMetric can also be a callable function.\u001b[39m\u001b[39m\"\u001b[39m \u001b[39m%\u001b[39m (\u001b[39mself\u001b[39m\u001b[39m.\u001b[39meffective_metric_)\n\u001b[0;32m    514\u001b[0m     )\n\u001b[1;32m--> 515\u001b[0m \u001b[39mself\u001b[39m\u001b[39m.\u001b[39m_fit_X \u001b[39m=\u001b[39m X\u001b[39m.\u001b[39;49mcopy()\n\u001b[0;32m    516\u001b[0m \u001b[39mself\u001b[39m\u001b[39m.\u001b[39m_tree \u001b[39m=\u001b[39m \u001b[39mNone\u001b[39;00m\n\u001b[0;32m    517\u001b[0m \u001b[39mself\u001b[39m\u001b[39m.\u001b[39m_fit_method \u001b[39m=\u001b[39m \u001b[39m\"\u001b[39m\u001b[39mbrute\u001b[39m\u001b[39m\"\u001b[39m\n",
      "File \u001b[1;32mc:\\Users\\Abdel Alim\\anaconda3\\lib\\site-packages\\scipy\\sparse\\data.py:92\u001b[0m, in \u001b[0;36m_data_matrix.copy\u001b[1;34m(self)\u001b[0m\n\u001b[0;32m     91\u001b[0m \u001b[39mdef\u001b[39;00m \u001b[39mcopy\u001b[39m(\u001b[39mself\u001b[39m):\n\u001b[1;32m---> 92\u001b[0m     \u001b[39mreturn\u001b[39;00m \u001b[39mself\u001b[39;49m\u001b[39m.\u001b[39;49m_with_data(\u001b[39mself\u001b[39;49m\u001b[39m.\u001b[39;49mdata\u001b[39m.\u001b[39;49mcopy(), copy\u001b[39m=\u001b[39;49m\u001b[39mTrue\u001b[39;49;00m)\n",
      "File \u001b[1;32mc:\\Users\\Abdel Alim\\anaconda3\\lib\\site-packages\\scipy\\sparse\\compressed.py:1218\u001b[0m, in \u001b[0;36m_cs_matrix._with_data\u001b[1;34m(self, data, copy)\u001b[0m\n\u001b[0;32m   1213\u001b[0m \u001b[39m\"\"\"Returns a matrix with the same sparsity structure as self,\u001b[39;00m\n\u001b[0;32m   1214\u001b[0m \u001b[39mbut with different data.  By default the structure arrays\u001b[39;00m\n\u001b[0;32m   1215\u001b[0m \u001b[39m(i.e. .indptr and .indices) are copied.\u001b[39;00m\n\u001b[0;32m   1216\u001b[0m \u001b[39m\"\"\"\u001b[39;00m\n\u001b[0;32m   1217\u001b[0m \u001b[39mif\u001b[39;00m copy:\n\u001b[1;32m-> 1218\u001b[0m     \u001b[39mreturn\u001b[39;00m \u001b[39mself\u001b[39m\u001b[39m.\u001b[39m\u001b[39m__class__\u001b[39m((data, \u001b[39mself\u001b[39;49m\u001b[39m.\u001b[39;49mindices\u001b[39m.\u001b[39;49mcopy(),\n\u001b[0;32m   1219\u001b[0m                            \u001b[39mself\u001b[39m\u001b[39m.\u001b[39mindptr\u001b[39m.\u001b[39mcopy()),\n\u001b[0;32m   1220\u001b[0m                           shape\u001b[39m=\u001b[39m\u001b[39mself\u001b[39m\u001b[39m.\u001b[39mshape,\n\u001b[0;32m   1221\u001b[0m                           dtype\u001b[39m=\u001b[39mdata\u001b[39m.\u001b[39mdtype)\n\u001b[0;32m   1222\u001b[0m \u001b[39melse\u001b[39;00m:\n\u001b[0;32m   1223\u001b[0m     \u001b[39mreturn\u001b[39;00m \u001b[39mself\u001b[39m\u001b[39m.\u001b[39m\u001b[39m__class__\u001b[39m((data, \u001b[39mself\u001b[39m\u001b[39m.\u001b[39mindices, \u001b[39mself\u001b[39m\u001b[39m.\u001b[39mindptr),\n\u001b[0;32m   1224\u001b[0m                           shape\u001b[39m=\u001b[39m\u001b[39mself\u001b[39m\u001b[39m.\u001b[39mshape, dtype\u001b[39m=\u001b[39mdata\u001b[39m.\u001b[39mdtype)\n",
      "\u001b[1;31mKeyboardInterrupt\u001b[0m: "
     ]
    }
   ],
   "source": [
    "data = pd.read_csv('theDataset/Youtube01-Psy.csv')\n",
    "x, y = preprocessing(data)\n",
    "\n",
    "vectorizer = CountVectorizer( )\n",
    "featuers = vectorizer.fit_transform(x)\n",
    "\n",
    "\n",
    "\n",
    "iter =100\n",
    "X_main, X_test,y_main, y_test = train_test_split(featuers,y ,\n",
    "                                   test_size = 0.2, \n",
    "                                   shuffle = True)\n",
    "accuracy_mean_train = []\n",
    "accuracy_mean_valid = []\n",
    "X_train, X_validat, y_train, y_validat = train_test_split(X_main,y_main ,\n",
    "                            test_size = 0.16,\n",
    "                            shuffle = True)\n",
    "for k in range(1, 100):\n",
    "    accuracyKTrain= []\n",
    "    accuracyKValid= []\n",
    "    \n",
    "    modle = KNeighborsClassifier(n_neighbors=k, metric='euclidean')\n",
    "    for i in range(iter):\n",
    "        modle.fit(X_train, y_train)\n",
    "        accuracyTrain = modle.score(X_test,y_test)\n",
    "        accuracyValid = modle.score(X_validat,y_validat)\n",
    "        accuracyKTrain.append(accuracyTrain)\n",
    "        accuracyKValid.append(accuracyValid)\n",
    "        \n",
    "    e = np.array(accuracyKTrain)\n",
    "    f = np.array(accuracyKValid)\n",
    "        \n",
    "    print(k, e.mean())\n",
    "    accuracy_mean_train.append(e.mean())\n",
    "    accuracy_mean_valid.append(f.mean())\n",
    "    \n",
    "m = np.array(accuracy_mean_valid)\n",
    "bestK = np.where(m == m.max())\n",
    "n = np.array(accuracy_mean_train)\n",
    "\n",
    "print(bestK[0] + 1)\n",
    "plt.plot(range(1,100),m)\n",
    "plt.plot(range(1,100),n)\n",
    "\n"
   ]
  },
  {
   "cell_type": "markdown",
   "metadata": {},
   "source": [
    "1\\. Import Data"
   ]
  },
  {
   "cell_type": "code",
   "execution_count": 2,
   "metadata": {},
   "outputs": [
    {
     "data": {
      "text/plain": [
       "CONTENT    0\n",
       "CLASS      0\n",
       "dtype: int64"
      ]
     },
     "execution_count": 2,
     "metadata": {},
     "output_type": "execute_result"
    }
   ],
   "source": [
    "data = pd.read_csv('theDataset/Youtube03-LMFAO.csv')\n",
    "\n",
    "data = data.drop(['COMMENT_ID', 'AUTHOR', 'DATE'], axis=1)\n",
    "# CONTENT / CLASS\n",
    "data.isnull().head().sum()\n"
   ]
  },
  {
   "cell_type": "markdown",
   "metadata": {},
   "source": [
    "2. PreProceessing"
   ]
  },
  {
   "cell_type": "code",
   "execution_count": 129,
   "metadata": {},
   "outputs": [
    {
     "data": {
      "text/plain": [
       "Check out this video on YouTube:﻿                   74\n",
       "Check out this playlist on YouTube:﻿                15\n",
       "Love this song makes me wanna dance! ﻿               3\n",
       "Check out this playlist on YouTube:<br /><br />﻿     2\n",
       "everyday I&#39;m shufflin﻿                           2\n",
       "                                                    ..\n",
       "this song is fu cking awesom!!!!!!!﻿                 1\n",
       "never gets old﻿                                      1\n",
       "Party time!﻿                                         1\n",
       "Damn, this was everywhere﻿                           1\n",
       "NICE :3﻿                                             1\n",
       "Name: CONTENT, Length: 340, dtype: int64"
      ]
     },
     "execution_count": 129,
     "metadata": {},
     "output_type": "execute_result"
    }
   ],
   "source": [
    "data[\"CONTENT\"].value_counts()\n"
   ]
  },
  {
   "cell_type": "code",
   "execution_count": 198,
   "metadata": {},
   "outputs": [
    {
     "name": "stdout",
     "output_type": "stream",
     "text": [
      "<class 'pandas.core.series.Series'>\n",
      "Int64Index: 333 entries, 0 to 437\n",
      "Series name: CLASS\n",
      "Non-Null Count  Dtype\n",
      "--------------  -----\n",
      "333 non-null    int64\n",
      "dtypes: int64(1)\n",
      "memory usage: 5.2 KB\n"
     ]
    }
   ],
   "source": [
    "y.info(\n",
    ")"
   ]
  },
  {
   "cell_type": "code",
   "execution_count": 130,
   "metadata": {},
   "outputs": [],
   "source": [
    "data['CONTENT'] = data['CONTENT'].str.lower()"
   ]
  },
  {
   "cell_type": "code",
   "execution_count": 131,
   "metadata": {},
   "outputs": [
    {
     "name": "stderr",
     "output_type": "stream",
     "text": [
      "C:\\Users\\Abdel Alim\\AppData\\Local\\Temp\\ipykernel_7592\\3125199810.py:1: FutureWarning: The default value of regex will change from True to False in a future version.\n",
      "  data['CONTENT'] = data['CONTENT'].str.replace(r'.com/(?:[a-zA-Z]|[0-9]|[$-_@.&+]|[!*\\(\\),])+',' ')\n"
     ]
    }
   ],
   "source": [
    "data['CONTENT'] = data['CONTENT'].str.replace(r'.com/(?:[a-zA-Z]|[0-9]|[$-_@.&+]|[!*\\(\\),])+',' ')\n"
   ]
  },
  {
   "cell_type": "markdown",
   "metadata": {},
   "source": [
    "2. Stop Words "
   ]
  },
  {
   "cell_type": "code",
   "execution_count": 132,
   "metadata": {},
   "outputs": [
    {
     "name": "stderr",
     "output_type": "stream",
     "text": [
      "[nltk_data] Downloading package stopwords to C:\\Users\\Abdel\n",
      "[nltk_data]     Alim\\AppData\\Roaming\\nltk_data...\n",
      "[nltk_data]   Package stopwords is already up-to-date!\n"
     ]
    },
    {
     "data": {
      "text/plain": [
       "True"
      ]
     },
     "execution_count": 132,
     "metadata": {},
     "output_type": "execute_result"
    }
   ],
   "source": [
    "from nltk.corpus import stopwords\n",
    "import nltk\n",
    "nltk.download('stopwords')\n"
   ]
  },
  {
   "cell_type": "code",
   "execution_count": 133,
   "metadata": {},
   "outputs": [],
   "source": [
    "stop_words = set(stopwords.words('english'))"
   ]
  },
  {
   "cell_type": "code",
   "execution_count": 135,
   "metadata": {},
   "outputs": [],
   "source": [
    "def remove_stop(x):\n",
    "    return \" \".join([word for word in str(x).split() if word not in stop_words])\n",
    "data['CONTENT'] = data['CONTENT'].apply(lambda x : remove_stop(x))"
   ]
  },
  {
   "cell_type": "code",
   "execution_count": 81,
   "metadata": {},
   "outputs": [
    {
     "name": "stderr",
     "output_type": "stream",
     "text": [
      "C:\\Users\\Abdel Alim\\AppData\\Local\\Temp\\ipykernel_7592\\1734438751.py:1: FutureWarning: The default value of regex will change from True to False in a future version.\n",
      "  x['CONTENT'] = x['CONTENT'].str.replace(r'[^\\w\\s]',' ')\n"
     ]
    }
   ],
   "source": [
    "data['CONTENT'] = data['CONTENT'].str.replace(r'[^\\w\\s]',' ')"
   ]
  },
  {
   "cell_type": "code",
   "execution_count": 82,
   "metadata": {},
   "outputs": [],
   "source": [
    "def remove_multiple_spaces(x):\n",
    "    return \" \".join([word for word in str(x).split()])\n",
    "data['CONTENT'] = data['CONTENT'].apply(lambda x : remove_multiple_spaces(x))"
   ]
  },
  {
   "cell_type": "code",
   "execution_count": 144,
   "metadata": {},
   "outputs": [],
   "source": [
    "data = data.drop_duplicates(subset='CONTENT', keep='first')"
   ]
  },
  {
   "cell_type": "code",
   "execution_count": 3,
   "metadata": {},
   "outputs": [],
   "source": [
    "x = data['CONTENT']\n",
    "y = data['CLASS']\n"
   ]
  },
  {
   "cell_type": "code",
   "execution_count": 4,
   "metadata": {},
   "outputs": [
    {
     "name": "stdout",
     "output_type": "stream",
     "text": [
      "  (0, 410)\t1\n",
      "  (0, 411)\t1\n",
      "  (0, 937)\t1\n",
      "  (0, 952)\t1\n",
      "  (0, 185)\t1\n",
      "  (0, 898)\t1\n",
      "  (0, 465)\t1\n",
      "  (0, 80)\t1\n",
      "  (0, 29)\t1\n",
      "  (0, 12)\t1\n",
      "  (0, 129)\t1\n",
      "  (0, 612)\t1\n",
      "  (1, 920)\t1\n",
      "  (1, 152)\t1\n",
      "  (1, 331)\t1\n",
      "  (2, 410)\t1\n",
      "  (2, 185)\t1\n",
      "  (2, 152)\t1\n",
      "  (2, 393)\t1\n",
      "  (2, 368)\t1\n",
      "  (2, 31)\t2\n",
      "  (2, 413)\t2\n",
      "  (2, 144)\t9\n",
      "  (2, 242)\t1\n",
      "  (2, 892)\t2\n",
      "  :\t:\n",
      "  (435, 95)\t1\n",
      "  (435, 847)\t1\n",
      "  (435, 291)\t1\n",
      "  (435, 120)\t1\n",
      "  (435, 568)\t1\n",
      "  (435, 824)\t1\n",
      "  (435, 673)\t1\n",
      "  (435, 395)\t1\n",
      "  (435, 343)\t1\n",
      "  (435, 520)\t1\n",
      "  (435, 632)\t1\n",
      "  (435, 902)\t1\n",
      "  (435, 844)\t1\n",
      "  (435, 238)\t1\n",
      "  (435, 579)\t1\n",
      "  (436, 816)\t1\n",
      "  (436, 314)\t1\n",
      "  (436, 836)\t1\n",
      "  (436, 865)\t1\n",
      "  (436, 516)\t1\n",
      "  (436, 409)\t1\n",
      "  (436, 219)\t1\n",
      "  (436, 505)\t1\n",
      "  (436, 705)\t1\n",
      "  (437, 570)\t1\n"
     ]
    }
   ],
   "source": [
    "# convert sting to numbers \n",
    "vectorizer = CountVectorizer( )\n",
    "featuers = vectorizer.fit_transform(x)\n",
    "print(featuers)"
   ]
  },
  {
   "cell_type": "code",
   "execution_count": 5,
   "metadata": {},
   "outputs": [],
   "source": [
    "modle = KNeighborsClassifier(n_neighbors=3)\n",
    "X_main, X_test,y_main, y_test = train_test_split(featuers,y ,\n",
    "                                   test_size = 0.2, \n",
    "                                   shuffle = True)\n",
    "X_train, X_validat, y_train, y_validat = train_test_split(X_main,y_main ,\n",
    "                                   test_size = 0.16,\n",
    "                                   shuffle = True)\n"
   ]
  },
  {
   "cell_type": "code",
   "execution_count": 6,
   "metadata": {},
   "outputs": [
    {
     "data": {
      "text/plain": [
       "[<matplotlib.lines.Line2D at 0x28fdec1db20>]"
      ]
     },
     "execution_count": 6,
     "metadata": {},
     "output_type": "execute_result"
    },
    {
     "data": {
      "image/png": "[encoded data removed]",
      "text/plain": [
       "<Figure size 432x288 with 1 Axes>"
      ]
     },
     "metadata": {
      "needs_background": "light"
     },
     "output_type": "display_data"
    }
   ],
   "source": [
    "a = []\n",
    "b =  range(1,10)\n",
    "for i in b:\n",
    "    modle = KNeighborsClassifier(n_neighbors=i, metric='euclidean')\n",
    "    modle.fit(X_train, y_train)\n",
    "    y_predict = modle.predict(X_test)\n",
    "    \n",
    "    a.append(accuracy_score(y_predict, y_test)) \n",
    "plt.plot(b, a)"
   ]
  },
  {
   "cell_type": "code",
   "execution_count": 7,
   "metadata": {},
   "outputs": [
    {
     "data": {
      "text/plain": [
       "array([1, 0, 0, 0, 0, 0, 1, 0, 0, 1, 0, 0, 0, 0, 0, 0, 1, 1, 0, 1, 1, 1,\n",
       "       1, 1, 1, 0, 0, 0, 0, 1, 0, 1, 1, 1, 1, 1, 1, 0, 0, 1, 1, 1, 0, 1,\n",
       "       1, 1, 1, 0, 1, 1, 0, 1, 1, 1, 0, 1, 1, 0, 0, 0, 1, 0, 0, 0, 1, 0,\n",
       "       1, 0, 1, 1, 0, 1, 1, 0, 0, 1, 1, 1, 1, 0, 1, 0, 1, 0, 1, 1, 0, 1],\n",
       "      dtype=int64)"
      ]
     },
     "execution_count": 7,
     "metadata": {},
     "output_type": "execute_result"
    }
   ],
   "source": [
    "y_predict"
   ]
  },
  {
   "cell_type": "code",
   "execution_count": 174,
   "metadata": {},
   "outputs": [
    {
     "name": "stdout",
     "output_type": "stream",
     "text": [
      "0.9069767441860465\n",
      "0.9302325581395349\n",
      "0.9534883720930233\n",
      "0.9767441860465116\n",
      "1.0\n"
     ]
    }
   ],
   "source": [
    "a = []\n",
    "modle = KNeighborsClassifier(n_neighbors=3, metric='euclidean')\n",
    "iter =10000\n",
    "maxacurssy = 0.89\n",
    "bestX_train, bestX_test,besty_train,besty_test = X_train, X_validat,y_train, y_validat\n",
    "\n",
    "for i in range(iter):\n",
    "    X_train, X_validat, y_train, y_validat = train_test_split(X_main,y_main ,\n",
    "                                   test_size = 0.16,\n",
    "                                   shuffle = True)\n",
    "    modle.fit(X_train, y_train)\n",
    "    accuracy = modle.score(X_validat,y_validat)\n",
    "    a.append(accuracy)\n",
    "    if maxacurssy < accuracy:\n",
    "        joblib.dump(modle,'nahini.joblib')\n",
    "        maxacurssy = accuracy\n",
    "        print(maxacurssy)\n",
    "        bestX_train, bestX_test,besty_train,besty_test = X_train, X_validat,y_train, y_validat"
   ]
  },
  {
   "cell_type": "code",
   "execution_count": 161,
   "metadata": {},
   "outputs": [
    {
     "data": {
      "text/plain": [
       "KNeighborsClassifier(metric='euclidean', n_neighbors=3)"
      ]
     },
     "execution_count": 161,
     "metadata": {},
     "output_type": "execute_result"
    }
   ],
   "source": [
    "modle.fit(bestX_train, besty_train)"
   ]
  },
  {
   "cell_type": "code",
   "execution_count": 162,
   "metadata": {},
   "outputs": [
    {
     "name": "stdout",
     "output_type": "stream",
     "text": [
      "0.9166666666666666\n"
     ]
    }
   ],
   "source": [
    "y_predict = modle.predict(X_test)\n",
    "print(accuracy_score(y_predict, y_test))"
   ]
  },
  {
   "cell_type": "code",
   "execution_count": 191,
   "metadata": {},
   "outputs": [
    {
     "name": "stdout",
     "output_type": "stream",
     "text": [
      "0.9047619047619048\n",
      "0.9166666666666666\n",
      "0.9285714285714286\n",
      "0.9523809523809523\n",
      "0.9642857142857143\n",
      "0.9761904761904762\n"
     ]
    }
   ],
   "source": [
    "a = []\n",
    "modle = KNeighborsClassifier(n_neighbors=3, metric='euclidean')\n",
    "iter =10000\n",
    "maxacurssy = 0.89\n",
    "bestX_train, bestX_test,besty_train,besty_test = X_train, X_test,y_train, y_test \n",
    "for i in range(iter):\n",
    "    X_train, X_test,y_train, y_test = train_test_split(featuers,y ,\n",
    "                                   test_size=0.25,\n",
    "                                   shuffle=True)\n",
    "    modle.fit(X_train, y_train)\n",
    "    accuracy = modle.score(X_test,y_test)\n",
    "    a.append(accuracy)\n",
    "    if maxacurssy <accuracy:\n",
    "        joblib.dump(modle,'nahini.joblib')\n",
    "        maxacurssy = accuracy\n",
    "        print(maxacurssy)\n",
    "        bestX_train, bestX_test, besty_train, besty_test = X_train, X_test, y_train, y_test"
   ]
  },
  {
   "cell_type": "code",
   "execution_count": 194,
   "metadata": {},
   "outputs": [
    {
     "name": "stdout",
     "output_type": "stream",
     "text": [
      "0.8691416666666666\n"
     ]
    }
   ],
   "source": [
    "ap = np.array(a)\n",
    "print(ap.mean())"
   ]
  },
  {
   "cell_type": "code",
   "execution_count": 196,
   "metadata": {},
   "outputs": [
    {
     "name": "stdout",
     "output_type": "stream",
     "text": [
      "0.8690476190476191\n"
     ]
    }
   ],
   "source": [
    "y_predict = modle.predict(X_test)\n",
    "\n",
    "print(accuracy_score(y_predict, y_test))"
   ]
  },
  {
   "cell_type": "code",
   "execution_count": 19,
   "metadata": {},
   "outputs": [],
   "source": [
    "def predictWithKnn(x, model, vectorizer):\n",
    "    \n",
    "    featuerspre = vectorizer.transform([str(x)])\n",
    "    y_pred = modle.predict(x)\n",
    "    return y_pred"
   ]
  },
  {
   "cell_type": "code",
   "execution_count": null,
   "metadata": {},
   "outputs": [],
   "source": []
  }
 ],
 "metadata": {
  "kernelspec": {
   "display_name": "Python 3 (ipykernel)",
   "language": "python",
   "name": "python3"
  },
  "language_info": {
   "codemirror_mode": {
    "name": "ipython",
    "version": 3
   },
   "file_extension": ".py",
   "mimetype": "text/x-python",
   "name": "python",
   "nbconvert_exporter": "python",
   "pygments_lexer": "ipython3",
   "version": "3.9.12 (main, Apr  4 2022, 05:22:27) [MSC v.1916 64 bit (AMD64)]"
  },
  "vscode": {
   "interpreter": {
    "hash": "66abd9c73c372f28a8ef98b8462078e3c895e5bf5441957c690bca4abf6b5117"
   }
  }
 },
 "nbformat": 4,
 "nbformat_minor": 2
}
