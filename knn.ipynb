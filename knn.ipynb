{
 "cells": [
  {
   "cell_type": "code",
   "execution_count": 47,
   "metadata": {},
   "outputs": [],
   "source": [
    "import pandas as pd\n",
    "import numpy as np\n",
    "import matplotlib.pyplot as plt\n",
    "from sklearn.model_selection import train_test_split\n",
    "from sklearn.feature_extraction.text import CountVectorizer\n",
    "from sklearn.neighbors import KNeighborsClassifier\n",
    "from sklearn.feature_extraction.text import TfidfVectorizer\n",
    "from sklearn.model_selection import GridSearchCV, cross_val_predict\n",
    "from sklearn.pipeline import Pipeline\n",
    "from sklearn.preprocessing import StandardScaler\n",
    "from sklearn.metrics import r2_score, mean_squared_error, accuracy_score\n",
    "from scipy import sparse\n",
    "from sklearn.pipeline import Pipeline\n",
    "from sklearn.model_selection import KFold, cross_val_score\n",
    "import joblib"
   ]
  },
  {
   "cell_type": "markdown",
   "metadata": {},
   "source": [
    "1\\. Import Data"
   ]
  },
  {
   "cell_type": "code",
   "execution_count": 120,
   "metadata": {},
   "outputs": [
    {
     "name": "stdout",
     "output_type": "stream",
     "text": [
      "                                               CONTENT\n",
      "0    <a href=\"http://www.youtube.com/watch?v=KQ6zr6...\n",
      "1                                     wierd but funny﻿\n",
      "2    Hey guys, I&#39;m a human.<br /><br /><br />Bu...\n",
      "3         Party Rock....lol...who wants to shuffle!!!﻿\n",
      "4                                          Party rock﻿\n",
      "..                                                 ...\n",
      "433                   Like this comment for no reason﻿\n",
      "434                                    love this song﻿\n",
      "435  this song is awesome. these guys are the best....\n",
      "436   HOW MANY THUMBS UP FOR LOUIS SAVING THE DAY!?!?﻿\n",
      "437                                           NICE :3﻿\n",
      "\n",
      "[438 rows x 1 columns]\n"
     ]
    }
   ],
   "source": [
    "data = pd.read_csv('theDataset/Youtube03-LMFAO.csv')\n",
    "\n",
    "data = data.drop(['COMMENT_ID', 'AUTHOR', 'DATE'], axis=1)\n",
    "# CONTENT / CLASS\n",
    "\n",
    "x=data.drop(['CLASS'], axis=1)\n",
    "y= data.drop(['CONTENT'], axis=1)\n",
    "\n",
    "print(x)"
   ]
  },
  {
   "cell_type": "markdown",
   "metadata": {},
   "source": [
    "2. PreProceessing"
   ]
  },
  {
   "cell_type": "code",
   "execution_count": 172,
   "metadata": {},
   "outputs": [
    {
     "data": {
      "text/plain": [
       "1    236\n",
       "0    202\n",
       "Name: CLASS, dtype: int64"
      ]
     },
     "execution_count": 172,
     "metadata": {},
     "output_type": "execute_result"
    }
   ],
   "source": [
    "y.value_counts()"
   ]
  },
  {
   "cell_type": "code",
   "execution_count": 122,
   "metadata": {},
   "outputs": [
    {
     "name": "stdout",
     "output_type": "stream",
     "text": [
      "                                               CONTENT\n",
      "0    <a href=\"http://www.youtube.com/watch?v=kq6zr6...\n",
      "1                                     wierd but funny﻿\n",
      "2    hey guys, i&#39;m a human.<br /><br /><br />bu...\n",
      "3         party rock....lol...who wants to shuffle!!!﻿\n",
      "4                                          party rock﻿\n",
      "..                                                 ...\n",
      "433                   like this comment for no reason﻿\n",
      "434                                    love this song﻿\n",
      "435  this song is awesome. these guys are the best....\n",
      "436   how many thumbs up for louis saving the day!?!?﻿\n",
      "437                                           nice :3﻿\n",
      "\n",
      "[438 rows x 1 columns]\n"
     ]
    }
   ],
   "source": [
    "x['CONTENT'] = x['CONTENT'].str.lower()\n",
    "print(x)"
   ]
  },
  {
   "cell_type": "code",
   "execution_count": 123,
   "metadata": {},
   "outputs": [
    {
     "name": "stderr",
     "output_type": "stream",
     "text": [
      "C:\\Users\\Abdel Alim\\AppData\\Local\\Temp\\ipykernel_15848\\401413228.py:1: FutureWarning: The default value of regex will change from True to False in a future version.\n",
      "  x['CONTENT'] = x['CONTENT'].str.replace(r'.com/(?:[a-zA-Z]|[0-9]|[$-_@.&+]|[!*\\(\\),])+',' ')\n"
     ]
    }
   ],
   "source": [
    "x['CONTENT'] = x['CONTENT'].str.replace(r'.com/(?:[a-zA-Z]|[0-9]|[$-_@.&+]|[!*\\(\\),])+',' ')"
   ]
  },
  {
   "cell_type": "code",
   "execution_count": 128,
   "metadata": {},
   "outputs": [
    {
     "data": {
      "text/html": [
       "<div>\n",
       "<style scoped>\n",
       "    .dataframe tbody tr th:only-of-type {\n",
       "        vertical-align: middle;\n",
       "    }\n",
       "\n",
       "    .dataframe tbody tr th {\n",
       "        vertical-align: top;\n",
       "    }\n",
       "\n",
       "    .dataframe thead th {\n",
       "        text-align: right;\n",
       "    }\n",
       "</style>\n",
       "<table border=\"1\" class=\"dataframe\">\n",
       "  <thead>\n",
       "    <tr style=\"text-align: right;\">\n",
       "      <th></th>\n",
       "      <th>CONTENT</th>\n",
       "    </tr>\n",
       "  </thead>\n",
       "  <tbody>\n",
       "    <tr>\n",
       "      <th>0</th>\n",
       "      <td>&lt;a href=\"http://www.youtube \"&gt;2:19&lt;/a&gt; best part﻿</td>\n",
       "    </tr>\n",
       "  </tbody>\n",
       "</table>\n",
       "</div>"
      ],
      "text/plain": [
       "                                             CONTENT\n",
       "0  <a href=\"http://www.youtube \">2:19</a> best part﻿"
      ]
     },
     "execution_count": 128,
     "metadata": {},
     "output_type": "execute_result"
    }
   ],
   "source": [
    "x.loc[[0]]"
   ]
  },
  {
   "cell_type": "markdown",
   "metadata": {},
   "source": [
    "2. Stop Words "
   ]
  },
  {
   "cell_type": "code",
   "execution_count": 129,
   "metadata": {},
   "outputs": [
    {
     "name": "stderr",
     "output_type": "stream",
     "text": [
      "[nltk_data] Downloading package stopwords to C:\\Users\\Abdel\n",
      "[nltk_data]     Alim\\AppData\\Roaming\\nltk_data...\n",
      "[nltk_data]   Package stopwords is already up-to-date!\n"
     ]
    },
    {
     "data": {
      "text/plain": [
       "True"
      ]
     },
     "execution_count": 129,
     "metadata": {},
     "output_type": "execute_result"
    }
   ],
   "source": [
    "from nltk.corpus import stopwords\n",
    "import nltk\n",
    "nltk.download('stopwords')\n"
   ]
  },
  {
   "cell_type": "code",
   "execution_count": 130,
   "metadata": {},
   "outputs": [],
   "source": [
    "stop_words = set(stopwords.words('english'))"
   ]
  },
  {
   "cell_type": "code",
   "execution_count": 83,
   "metadata": {},
   "outputs": [
    {
     "name": "stdout",
     "output_type": "stream",
     "text": [
      "{\"don't\", 'didn', 'be', 'll', 'y', 'me', \"didn't\", 'had', 'an', 'or', \"you're\", 'we', 'so', 'mustn', 'few', \"needn't\", \"wasn't\", 'very', 'when', 'such', 'hadn', 'while', 'my', 'i', 'he', 'itself', 'herself', \"weren't\", 'down', 'where', 'is', \"should've\", 'were', 'now', 've', 'after', 'all', 'our', 'does', 'again', 'to', 'myself', 'them', \"mightn't\", 'haven', 'during', \"mustn't\", 'yourselves', 'until', 'the', 'what', 'has', 'o', 'by', 'same', 'if', 'just', 'of', 'can', 'she', 'they', 'shouldn', 'his', 'hasn', 'did', 'some', 'won', 'as', 'you', 'doing', 'mightn', 'in', 'over', \"couldn't\", 'being', 'ourselves', \"she's\", 'hers', 'himself', 'her', 'above', 'don', 'with', \"haven't\", 'nor', 'because', 'more', 'shan', 'under', 'there', \"hadn't\", \"shan't\", 'whom', \"that'll\", 'each', 'but', 'do', 'against', 'why', 'here', \"shouldn't\", 'd', 'wouldn', 'wasn', 'its', 'am', 'not', \"you'll\", \"isn't\", 'too', 'this', 'about', \"hasn't\", 'before', 'have', 'any', 'their', 'doesn', 'needn', \"you'd\", 'at', 'which', 'themselves', 'only', 'are', 'having', 'out', 'up', 'than', 'was', 'between', 'both', \"wouldn't\", 'no', 'these', \"it's\", 'other', 'ours', 'will', 'been', 're', 'who', 'm', 'ma', 'further', 'yours', 'your', 'once', 'theirs', \"doesn't\", 't', 'should', 'most', 'a', 'weren', 'below', 'for', 'off', 'and', 'him', 'how', 'isn', 'from', \"aren't\", 'through', 'couldn', 'then', 'that', 'aren', \"won't\", 'ain', 'those', 'into', 'yourself', \"you've\", 'it', 's', 'on', 'own'}\n"
     ]
    }
   ],
   "source": [
    "print(stop_words)"
   ]
  },
  {
   "cell_type": "code",
   "execution_count": 134,
   "metadata": {},
   "outputs": [],
   "source": [
    "def remove_stop(x):\n",
    "    return \" \".join([word for word in str(x).split() if word not in stop_words])\n",
    "x['CONTENT'] = x['CONTENT'].apply(lambda x : remove_stop(x))"
   ]
  },
  {
   "cell_type": "code",
   "execution_count": 135,
   "metadata": {},
   "outputs": [
    {
     "name": "stderr",
     "output_type": "stream",
     "text": [
      "C:\\Users\\Abdel Alim\\AppData\\Local\\Temp\\ipykernel_15848\\1734438751.py:1: FutureWarning: The default value of regex will change from True to False in a future version.\n",
      "  x['CONTENT'] = x['CONTENT'].str.replace(r'[^\\w\\s]',' ')\n"
     ]
    }
   ],
   "source": [
    "x['CONTENT'] = x['CONTENT'].str.replace(r'[^\\w\\s]',' ')"
   ]
  },
  {
   "cell_type": "code",
   "execution_count": 136,
   "metadata": {},
   "outputs": [],
   "source": [
    "def remove_multiple_spaces(x):\n",
    "    return \" \".join([word for word in str(x).split()])\n",
    "x['CONTENT'] = x['CONTENT'].apply(lambda x : remove_multiple_spaces(x))"
   ]
  },
  {
   "cell_type": "code",
   "execution_count": 24,
   "metadata": {},
   "outputs": [
    {
     "name": "stdout",
     "output_type": "stream",
     "text": [
      "                                       CONTENT\n",
      "52  see br href http adf ly http adf ly 1hmvtx\n"
     ]
    }
   ],
   "source": []
  },
  {
   "cell_type": "code",
   "execution_count": 137,
   "metadata": {},
   "outputs": [
    {
     "data": {
      "text/html": [
       "<div>\n",
       "<style scoped>\n",
       "    .dataframe tbody tr th:only-of-type {\n",
       "        vertical-align: middle;\n",
       "    }\n",
       "\n",
       "    .dataframe tbody tr th {\n",
       "        vertical-align: top;\n",
       "    }\n",
       "\n",
       "    .dataframe thead th {\n",
       "        text-align: right;\n",
       "    }\n",
       "</style>\n",
       "<table border=\"1\" class=\"dataframe\">\n",
       "  <thead>\n",
       "    <tr style=\"text-align: right;\">\n",
       "      <th></th>\n",
       "      <th>CONTENT</th>\n",
       "    </tr>\n",
       "  </thead>\n",
       "  <tbody>\n",
       "    <tr>\n",
       "      <th>0</th>\n",
       "      <td>href http www youtube 2 19 best part</td>\n",
       "    </tr>\n",
       "    <tr>\n",
       "      <th>1</th>\n",
       "      <td>wierd funny</td>\n",
       "    </tr>\n",
       "    <tr>\n",
       "      <th>2</th>\n",
       "      <td>hey guys 39 human br br br 39 want human want ...</td>\n",
       "    </tr>\n",
       "    <tr>\n",
       "      <th>3</th>\n",
       "      <td>party rock lol wants shuffle</td>\n",
       "    </tr>\n",
       "    <tr>\n",
       "      <th>4</th>\n",
       "      <td>party rock</td>\n",
       "    </tr>\n",
       "    <tr>\n",
       "      <th>...</th>\n",
       "      <td>...</td>\n",
       "    </tr>\n",
       "    <tr>\n",
       "      <th>433</th>\n",
       "      <td>like comment reason</td>\n",
       "    </tr>\n",
       "    <tr>\n",
       "      <th>434</th>\n",
       "      <td>love song</td>\n",
       "    </tr>\n",
       "    <tr>\n",
       "      <th>435</th>\n",
       "      <td>song awesome guys best love video hilarious lo...</td>\n",
       "    </tr>\n",
       "    <tr>\n",
       "      <th>436</th>\n",
       "      <td>many thumbs louis saving day</td>\n",
       "    </tr>\n",
       "    <tr>\n",
       "      <th>437</th>\n",
       "      <td>nice 3</td>\n",
       "    </tr>\n",
       "  </tbody>\n",
       "</table>\n",
       "<p>438 rows × 1 columns</p>\n",
       "</div>"
      ],
      "text/plain": [
       "                                               CONTENT\n",
       "0                 href http www youtube 2 19 best part\n",
       "1                                          wierd funny\n",
       "2    hey guys 39 human br br br 39 want human want ...\n",
       "3                         party rock lol wants shuffle\n",
       "4                                           party rock\n",
       "..                                                 ...\n",
       "433                                like comment reason\n",
       "434                                          love song\n",
       "435  song awesome guys best love video hilarious lo...\n",
       "436                       many thumbs louis saving day\n",
       "437                                             nice 3\n",
       "\n",
       "[438 rows x 1 columns]"
      ]
     },
     "execution_count": 137,
     "metadata": {},
     "output_type": "execute_result"
    }
   ],
   "source": [
    "x"
   ]
  },
  {
   "cell_type": "code",
   "execution_count": 138,
   "metadata": {},
   "outputs": [],
   "source": [
    "x1 = x['CONTENT']\n",
    "y=data['CLASS']"
   ]
  },
  {
   "cell_type": "code",
   "execution_count": 139,
   "metadata": {},
   "outputs": [
    {
     "name": "stdout",
     "output_type": "stream",
     "text": [
      "  (0, 355)\t1\n",
      "  (0, 356)\t1\n",
      "  (0, 807)\t1\n",
      "  (0, 820)\t1\n",
      "  (0, 10)\t1\n",
      "  (0, 98)\t1\n",
      "  (0, 527)\t1\n",
      "  (1, 793)\t1\n",
      "  (1, 286)\t1\n",
      "  (2, 355)\t1\n",
      "  (2, 340)\t1\n",
      "  (2, 323)\t1\n",
      "  (2, 23)\t2\n",
      "  (2, 358)\t2\n",
      "  (2, 113)\t9\n",
      "  (2, 777)\t2\n",
      "  (2, 629)\t1\n",
      "  (2, 283)\t2\n",
      "  (2, 299)\t1\n",
      "  (2, 58)\t1\n",
      "  (2, 479)\t1\n",
      "  (2, 702)\t2\n",
      "  (2, 219)\t1\n",
      "  (2, 670)\t1\n",
      "  (2, 168)\t1\n",
      "  :\t:\n",
      "  (435, 447)\t1\n",
      "  (435, 659)\t1\n",
      "  (435, 433)\t1\n",
      "  (435, 441)\t1\n",
      "  (435, 729)\t1\n",
      "  (435, 80)\t1\n",
      "  (435, 559)\t1\n",
      "  (435, 765)\t1\n",
      "  (435, 248)\t1\n",
      "  (435, 497)\t1\n",
      "  (435, 585)\t1\n",
      "  (435, 342)\t1\n",
      "  (435, 298)\t1\n",
      "  (435, 453)\t1\n",
      "  (435, 546)\t1\n",
      "  (435, 786)\t1\n",
      "  (435, 736)\t1\n",
      "  (435, 198)\t1\n",
      "  (435, 506)\t1\n",
      "  (436, 729)\t1\n",
      "  (436, 450)\t1\n",
      "  (436, 184)\t1\n",
      "  (436, 440)\t1\n",
      "  (436, 615)\t1\n",
      "  (437, 499)\t1\n"
     ]
    }
   ],
   "source": [
    "# convert sting to numbers \n",
    "vectorizer = CountVectorizer( )\n",
    "featuers = vectorizer.fit_transform(x1)\n",
    "print(featuers)"
   ]
  },
  {
   "cell_type": "code",
   "execution_count": 140,
   "metadata": {},
   "outputs": [],
   "source": [
    "modle = KNeighborsClassifier(n_neighbors=3)\n",
    "X_train, X_test,y_train, y_test = train_test_split(featuers,y ,\n",
    "                                   test_size=0.25, \n",
    "                                   shuffle=True)\n",
    "\n"
   ]
  },
  {
   "cell_type": "code",
   "execution_count": 141,
   "metadata": {},
   "outputs": [
    {
     "data": {
      "text/plain": [
       "[<matplotlib.lines.Line2D at 0x1be5894dc70>]"
      ]
     },
     "execution_count": 141,
     "metadata": {},
     "output_type": "execute_result"
    },
    {
     "data": {
      "image/png": "[encoded data removed]",
      "text/plain": [
       "<Figure size 432x288 with 1 Axes>"
      ]
     },
     "metadata": {
      "needs_background": "light"
     },
     "output_type": "display_data"
    }
   ],
   "source": [
    "a = []\n",
    "b =  range(1,10)\n",
    "for i in b:\n",
    "    modle = KNeighborsClassifier(n_neighbors=i)\n",
    "    modle.fit(X_train, y_train) \n",
    "    y_predict = modle.predict(X_test)\n",
    "    \n",
    "    a.append(accuracy_score(y_predict, y_test)) \n",
    "plt.plot(b, a)"
   ]
  },
  {
   "cell_type": "code",
   "execution_count": 178,
   "metadata": {},
   "outputs": [
    {
     "name": "stdout",
     "output_type": "stream",
     "text": [
      "0.9\n",
      "0.9090909090909091\n",
      "0.9181818181818182\n",
      "0.9363636363636364\n",
      "0.9454545454545454\n",
      "0.9636363636363636\n",
      "0.9727272727272728\n",
      "0.9818181818181818\n"
     ]
    }
   ],
   "source": [
    "a = []\n",
    "modle = KNeighborsClassifier(n_neighbors=6, metric='euclidean')\n",
    "iter =10000\n",
    "maxacurssy = 0.89\n",
    "bestX_train, bestX_test,besty_train,besty_test = X_train, X_test,y_train, y_test \n",
    "for i in range(iter):\n",
    "    X_train, X_test,y_train, y_test = train_test_split(featuers,y ,\n",
    "                                   test_size=0.25,\n",
    "                                   shuffle=True)\n",
    "    modle.fit(X_train, y_train)\n",
    "    accuracy = modle.score(X_test,y_test)\n",
    "    a.append(accuracy)\n",
    "    if maxacurssy <accuracy:\n",
    "        joblib.dump(modle,'nahini.joblib')\n",
    "        maxacurssy = accuracy\n",
    "        print(maxacurssy)\n",
    "        bestX_train, bestX_test,besty_train,besty_test = X_train, X_test,y_train, y_test"
   ]
  },
  {
   "cell_type": "code",
   "execution_count": 167,
   "metadata": {},
   "outputs": [
    {
     "name": "stdout",
     "output_type": "stream",
     "text": [
      "1.0\n"
     ]
    }
   ],
   "source": [
    "X_train, X_test,y_train, y_test = bestX_train, bestX_test,besty_train,besty_test\n",
    "modle = KNeighborsClassifier(n_neighbors=6)\n",
    "modle.fit(X_train, y_train) \n",
    "y_predict = modle.predict(X_test)\n",
    "\n",
    "print(accuracy_score(y_predict, y_test))"
   ]
  },
  {
   "cell_type": "code",
   "execution_count": 19,
   "metadata": {},
   "outputs": [],
   "source": [
    "def predictWithKnn(self, x, model, vectorizer):\n",
    "    \n",
    "    featuerspre = vectorizer.transform([str(x)])\n",
    "    y_pred = modle.predict(x)\n",
    "    return y_pred"
   ]
  },
  {
   "cell_type": "code",
   "execution_count": null,
   "metadata": {},
   "outputs": [],
   "source": []
  }
 ],
 "metadata": {
  "kernelspec": {
   "display_name": "Python 3 (ipykernel)",
   "language": "python",
   "name": "python3"
  },
  "language_info": {
   "codemirror_mode": {
    "name": "ipython",
    "version": 3
   },
   "file_extension": ".py",
   "mimetype": "text/x-python",
   "name": "python",
   "nbconvert_exporter": "python",
   "pygments_lexer": "ipython3",
   "version": "3.9.12 (main, Apr  4 2022, 05:22:27) [MSC v.1916 64 bit (AMD64)]"
  },
  "vscode": {
   "interpreter": {
    "hash": "66abd9c73c372f28a8ef98b8462078e3c895e5bf5441957c690bca4abf6b5117"
   }
  }
 },
 "nbformat": 4,
 "nbformat_minor": 2
}
