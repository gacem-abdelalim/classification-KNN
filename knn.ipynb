{
 "cells": [
  {
   "cell_type": "code",
   "execution_count": 4,
   "metadata": {},
   "outputs": [
    {
     "name": "stderr",
     "output_type": "stream",
     "text": [
      "[nltk_data] Downloading package stopwords to C:\\Users\\Abdel\n",
      "[nltk_data]     Alim\\AppData\\Roaming\\nltk_data...\n",
      "[nltk_data]   Package stopwords is already up-to-date!\n"
     ]
    },
    {
     "data": {
      "text/plain": [
       "True"
      ]
     },
     "execution_count": 4,
     "metadata": {},
     "output_type": "execute_result"
    }
   ],
   "source": [
    "import pandas as pd\n",
    "import numpy as np\n",
    "import matplotlib.pyplot as plt\n",
    "from sklearn.model_selection import train_test_split\n",
    "from sklearn.feature_extraction.text import CountVectorizer\n",
    "from sklearn.neighbors import KNeighborsClassifier\n",
    "from sklearn.feature_extraction.text import TfidfVectorizer\n",
    "from sklearn.model_selection import GridSearchCV, cross_val_predict\n",
    "from sklearn.pipeline import Pipeline\n",
    "from sklearn.preprocessing import StandardScaler\n",
    "from sklearn.metrics import r2_score, mean_squared_error, accuracy_score\n",
    "from scipy import sparse\n",
    "from sklearn.pipeline import Pipeline\n",
    "from sklearn.model_selection import KFold, cross_val_score\n",
    "import joblib\n",
    "from nltk.corpus import stopwords\n",
    "import nltk\n",
    "nltk.download('stopwords')"
   ]
  },
  {
   "cell_type": "code",
   "execution_count": 5,
   "metadata": {},
   "outputs": [],
   "source": [
    "stop_words = set(stopwords.words('english'))\n",
    "def remove_stop(x):\n",
    "    return \" \".join([word for word in str(x).split() if word not in stop_words])\n",
    "def remove_multiple_spaces(x):\n",
    "    return \" \".join([word for word in str(x).split()])\n",
    "def preprocessing(data):\n",
    "    data = data.drop(['COMMENT_ID', 'AUTHOR', 'DATE'], axis=1)\n",
    "    data['CONTENT'] = data['CONTENT'].str.lower()\n",
    "    data['CONTENT'] = data['CONTENT'].str.replace(r'.com/(?:[a-zA-Z]|[0-9]|[$-_@.&+]|[!*\\(\\),])+',' ')\n",
    "    data['CONTENT'] = data['CONTENT'].str.replace(r'[^\\w\\s]',' ')\n",
    "    data['CONTENT'] = data['CONTENT'].apply(lambda x : remove_multiple_spaces(x))\n",
    "    data['CONTENT'] = data['CONTENT'].apply(lambda x : remove_stop(x))\n",
    "    data = data.drop_duplicates(subset='CONTENT', keep='first')\n",
    "    x = data['CONTENT']\n",
    "    y = data['CLASS']\n",
    "    return(x,y)\n",
    "\n",
    "\n"
   ]
  },
  {
   "cell_type": "code",
   "execution_count": 11,
   "metadata": {},
   "outputs": [],
   "source": [
    "def best_k(X_main,y_main,iter):\n",
    "    accuracy_mean_train = []\n",
    "    accuracy_mean_valid = []\n",
    "    for k in range(1, 100):\n",
    "        accuracyKTrain= []\n",
    "        accuracyKValid= []\n",
    "        \n",
    "        modle = KNeighborsClassifier(n_neighbors=k, metric='euclidean')\n",
    "        for i in range(iter):\n",
    "            X_train, X_validat, y_train, y_validat = train_test_split(X_main,y_main ,\n",
    "                                    test_size = 0.16,\n",
    "                                    shuffle = True)\n",
    "            modle.fit(X_train, y_train)\n",
    "            accuracyTrain = modle.score(X_train,y_train)\n",
    "            \n",
    "            accuracyValid = modle.score(X_validat,y_validat)\n",
    "            accuracyKTrain.append(accuracyTrain)\n",
    "            accuracyKValid.append(accuracyValid)\n",
    "            \n",
    "        e = np.array(accuracyKTrain)\n",
    "        f = np.array(accuracyKValid)\n",
    "            \n",
    "        print(k, e.mean(), f.mean())\n",
    "        accuracy_mean_train.append(e.mean())\n",
    "        accuracy_mean_valid.append(f.mean())\n",
    "        \n",
    "    m = np.array(accuracy_mean_valid)\n",
    "    bestK = np.where(m == m.max())\n",
    "    n = np.array(accuracy_mean_train)\n",
    "\n",
    "    plt.plot(range(1,100),m)\n",
    "    plt.plot(range(1,100),n)\n",
    "    return bestK[0] + 1\n",
    "\n"
   ]
  },
  {
   "cell_type": "code",
   "execution_count": 12,
   "metadata": {},
   "outputs": [
    {
     "name": "stderr",
     "output_type": "stream",
     "text": [
      "C:\\Users\\Abdel Alim\\AppData\\Local\\Temp\\ipykernel_3964\\3033913023.py:9: FutureWarning: The default value of regex will change from True to False in a future version.\n",
      "  data['CONTENT'] = data['CONTENT'].str.replace(r'.com/(?:[a-zA-Z]|[0-9]|[$-_@.&+]|[!*\\(\\),])+',' ')\n",
      "C:\\Users\\Abdel Alim\\AppData\\Local\\Temp\\ipykernel_3964\\3033913023.py:10: FutureWarning: The default value of regex will change from True to False in a future version.\n",
      "  data['CONTENT'] = data['CONTENT'].str.replace(r'[^\\w\\s]',' ')\n"
     ]
    },
    {
     "name": "stdout",
     "output_type": "stream",
     "text": [
      "1 1.0\n",
      "2 0.8957964601769912\n",
      "3 0.9506194690265487\n",
      "4 0.9043805309734513\n",
      "5 0.9344247787610621\n",
      "6 0.8921681415929202\n",
      "7 0.9216371681415927\n",
      "8 0.8726548672566371\n",
      "9 0.9075221238938053\n",
      "10 0.8693805309734515\n",
      "11 0.9094690265486726\n",
      "12 0.8705752212389379\n",
      "13 0.8921238938053097\n",
      "14 0.8610176991150442\n",
      "15 0.8828761061946904\n",
      "16 0.8427876106194689\n",
      "17 0.863362831858407\n",
      "18 0.8305309734513274\n",
      "19 0.8379646017699117\n",
      "20 0.800221238938053\n",
      "21 0.8298230088495575\n",
      "22 0.7865929203539824\n",
      "23 0.8186725663716815\n",
      "24 0.7716814159292036\n",
      "25 0.7808849557522123\n",
      "26 0.7499557522123894\n",
      "27 0.7705752212389381\n",
      "28 0.7304424778761058\n",
      "29 0.7586283185840708\n",
      "30 0.7157079646017701\n",
      "31 0.7261504424778761\n",
      "32 0.70141592920354\n",
      "33 0.7190707964601768\n",
      "34 0.6855309734513275\n",
      "35 0.7067256637168141\n",
      "36 0.6724778761061947\n",
      "37 0.6953097345132743\n",
      "38 0.6583185840707964\n",
      "39 0.6819469026548672\n",
      "40 0.657212389380531\n",
      "41 0.6836725663716814\n",
      "42 0.6578761061946904\n",
      "43 0.6782743362831858\n",
      "44 0.6414159292035398\n",
      "45 0.6785398230088496\n",
      "46 0.6547345132743364\n",
      "47 0.6805309734513274\n",
      "48 0.6635398230088495\n",
      "49 0.6849557522123894\n",
      "50 0.6582300884955753\n",
      "51 0.6800442477876106\n",
      "52 0.634646017699115\n",
      "53 0.664424778761062\n",
      "54 0.6297345132743363\n",
      "55 0.686725663716814\n",
      "56 0.6533185840707963\n",
      "57 0.6713274336283187\n",
      "58 0.6464159292035397\n",
      "59 0.6753097345132741\n",
      "60 0.6570796460176992\n",
      "61 0.6919911504424777\n",
      "62 0.6708407079646017\n",
      "63 0.6798672566371683\n",
      "64 0.655796460176991\n",
      "65 0.6792035398230089\n",
      "66 0.6446017699115045\n",
      "67 0.6915486725663718\n",
      "68 0.6696017699115044\n",
      "69 0.6812389380530974\n",
      "70 0.6678761061946902\n",
      "71 0.694778761061947\n",
      "72 0.6630973451327433\n",
      "73 0.6899557522123894\n",
      "74 0.6627433628318586\n",
      "75 0.6997787610619468\n",
      "76 0.6503097345132742\n",
      "77 0.7030088495575221\n",
      "78 0.6719911504424779\n",
      "79 0.6959292035398231\n",
      "80 0.699778761061947\n",
      "81 0.6917699115044248\n",
      "82 0.6823451327433628\n",
      "83 0.6992477876106196\n",
      "84 0.6906637168141592\n",
      "85 0.7060176991150441\n",
      "86 0.6946460176991152\n",
      "87 0.7251769911504425\n",
      "88 0.6959734513274337\n",
      "89 0.7096902654867256\n",
      "90 0.6885398230088496\n",
      "91 0.7288495575221239\n",
      "92 0.727787610619469\n",
      "93 0.7285398230088496\n",
      "94 0.7029646017699114\n",
      "95 0.7365929203539824\n",
      "96 0.7238938053097346\n",
      "97 0.7394690265486727\n",
      "98 0.7554424778761063\n",
      "99 0.7407964601769909\n"
     ]
    },
    {
     "data": {
      "image/png": "[encoded data removed]",
      "text/plain": [
       "<Figure size 432x288 with 1 Axes>"
      ]
     },
     "metadata": {
      "needs_background": "light"
     },
     "output_type": "display_data"
    }
   ],
   "source": [
    "data = pd.read_csv('theDataset/Youtube01-Psy.csv')\n",
    "x, y = preprocessing(data)\n",
    "\n",
    "vectorizer = CountVectorizer( )\n",
    "featuers = vectorizer.fit_transform(x)\n",
    "\n",
    "iter =100\n",
    "\n",
    "X_main, X_test,y_main, y_test = train_test_split(featuers,y ,\n",
    "                                   test_size = 0.2, \n",
    "                                   shuffle = True)\n",
    "\n",
    "X_train, X_validat, y_train, y_validat = train_test_split(X_main,y_main ,\n",
    "                            test_size = 0.16,\n",
    "                            shuffle = True)\n",
    "a = best_k(X_main,y_main,iter)\n",
    "\n"
   ]
  },
  {
   "cell_type": "code",
   "execution_count": 13,
   "metadata": {},
   "outputs": [
    {
     "name": "stdout",
     "output_type": "stream",
     "text": [
      "[3]\n"
     ]
    }
   ],
   "source": [
    "print(a)"
   ]
  },
  {
   "cell_type": "code",
   "execution_count": 23,
   "metadata": {},
   "outputs": [
    {
     "data": {
      "text/plain": [
       "[<matplotlib.lines.Line2D at 0x1d7aed54910>]"
      ]
     },
     "execution_count": 23,
     "metadata": {},
     "output_type": "execute_result"
    },
    {
     "data": {
      "image/png": "[encoded data removed]",
      "text/plain": [
       "<Figure size 432x288 with 1 Axes>"
      ]
     },
     "metadata": {
      "needs_background": "light"
     },
     "output_type": "display_data"
    }
   ],
   "source": [
    "plt.plot(np.linspace(1, 20, 20),n[:20])\n",
    "plt.plot(np.linspace(1, 20, 20),m[:20])"
   ]
  },
  {
   "cell_type": "code",
   "execution_count": 15,
   "metadata": {},
   "outputs": [
    {
     "name": "stdout",
     "output_type": "stream",
     "text": [
      "0.9411764705882353\n"
     ]
    }
   ],
   "source": [
    "modle = KNeighborsClassifier(n_neighbors=3, metric='euclidean')\n",
    "modle.fit(X_train, y_train)\n",
    "print(modle.score(X_test,y_test))\n"
   ]
  },
  {
   "cell_type": "markdown",
   "metadata": {},
   "source": [
    "1\\. Import Data"
   ]
  },
  {
   "cell_type": "code",
   "execution_count": 2,
   "metadata": {},
   "outputs": [
    {
     "data": {
      "text/plain": [
       "CONTENT    0\n",
       "CLASS      0\n",
       "dtype: int64"
      ]
     },
     "execution_count": 2,
     "metadata": {},
     "output_type": "execute_result"
    }
   ],
   "source": [
    "data = pd.read_csv('theDataset/Youtube03-LMFAO.csv')\n",
    "\n",
    "data = data.drop(['COMMENT_ID', 'AUTHOR', 'DATE'], axis=1)\n",
    "# CONTENT / CLASS\n",
    "data.isnull().head().sum()\n"
   ]
  },
  {
   "cell_type": "markdown",
   "metadata": {},
   "source": [
    "2. PreProceessing"
   ]
  },
  {
   "cell_type": "code",
   "execution_count": 129,
   "metadata": {},
   "outputs": [
    {
     "data": {
      "text/plain": [
       "Check out this video on YouTube:﻿                   74\n",
       "Check out this playlist on YouTube:﻿                15\n",
       "Love this song makes me wanna dance! ﻿               3\n",
       "Check out this playlist on YouTube:<br /><br />﻿     2\n",
       "everyday I&#39;m shufflin﻿                           2\n",
       "                                                    ..\n",
       "this song is fu cking awesom!!!!!!!﻿                 1\n",
       "never gets old﻿                                      1\n",
       "Party time!﻿                                         1\n",
       "Damn, this was everywhere﻿                           1\n",
       "NICE :3﻿                                             1\n",
       "Name: CONTENT, Length: 340, dtype: int64"
      ]
     },
     "execution_count": 129,
     "metadata": {},
     "output_type": "execute_result"
    }
   ],
   "source": [
    "data[\"CONTENT\"].value_counts()\n"
   ]
  },
  {
   "cell_type": "code",
   "execution_count": 198,
   "metadata": {},
   "outputs": [
    {
     "name": "stdout",
     "output_type": "stream",
     "text": [
      "<class 'pandas.core.series.Series'>\n",
      "Int64Index: 333 entries, 0 to 437\n",
      "Series name: CLASS\n",
      "Non-Null Count  Dtype\n",
      "--------------  -----\n",
      "333 non-null    int64\n",
      "dtypes: int64(1)\n",
      "memory usage: 5.2 KB\n"
     ]
    }
   ],
   "source": [
    "y.info(\n",
    ")"
   ]
  },
  {
   "cell_type": "code",
   "execution_count": 130,
   "metadata": {},
   "outputs": [],
   "source": [
    "data['CONTENT'] = data['CONTENT'].str.lower()"
   ]
  },
  {
   "cell_type": "code",
   "execution_count": 131,
   "metadata": {},
   "outputs": [
    {
     "name": "stderr",
     "output_type": "stream",
     "text": [
      "C:\\Users\\Abdel Alim\\AppData\\Local\\Temp\\ipykernel_7592\\3125199810.py:1: FutureWarning: The default value of regex will change from True to False in a future version.\n",
      "  data['CONTENT'] = data['CONTENT'].str.replace(r'.com/(?:[a-zA-Z]|[0-9]|[$-_@.&+]|[!*\\(\\),])+',' ')\n"
     ]
    }
   ],
   "source": [
    "data['CONTENT'] = data['CONTENT'].str.replace(r'.com/(?:[a-zA-Z]|[0-9]|[$-_@.&+]|[!*\\(\\),])+',' ')\n"
   ]
  },
  {
   "cell_type": "markdown",
   "metadata": {},
   "source": [
    "2. Stop Words "
   ]
  },
  {
   "cell_type": "code",
   "execution_count": 132,
   "metadata": {},
   "outputs": [
    {
     "name": "stderr",
     "output_type": "stream",
     "text": [
      "[nltk_data] Downloading package stopwords to C:\\Users\\Abdel\n",
      "[nltk_data]     Alim\\AppData\\Roaming\\nltk_data...\n",
      "[nltk_data]   Package stopwords is already up-to-date!\n"
     ]
    },
    {
     "data": {
      "text/plain": [
       "True"
      ]
     },
     "execution_count": 132,
     "metadata": {},
     "output_type": "execute_result"
    }
   ],
   "source": [
    "from nltk.corpus import stopwords\n",
    "import nltk\n",
    "nltk.download('stopwords')\n"
   ]
  },
  {
   "cell_type": "code",
   "execution_count": 133,
   "metadata": {},
   "outputs": [],
   "source": [
    "stop_words = set(stopwords.words('english'))"
   ]
  },
  {
   "cell_type": "code",
   "execution_count": 135,
   "metadata": {},
   "outputs": [],
   "source": [
    "def remove_stop(x):\n",
    "    return \" \".join([word for word in str(x).split() if word not in stop_words])\n",
    "data['CONTENT'] = data['CONTENT'].apply(lambda x : remove_stop(x))"
   ]
  },
  {
   "cell_type": "code",
   "execution_count": 81,
   "metadata": {},
   "outputs": [
    {
     "name": "stderr",
     "output_type": "stream",
     "text": [
      "C:\\Users\\Abdel Alim\\AppData\\Local\\Temp\\ipykernel_7592\\1734438751.py:1: FutureWarning: The default value of regex will change from True to False in a future version.\n",
      "  x['CONTENT'] = x['CONTENT'].str.replace(r'[^\\w\\s]',' ')\n"
     ]
    }
   ],
   "source": [
    "data['CONTENT'] = data['CONTENT'].str.replace(r'[^\\w\\s]',' ')"
   ]
  },
  {
   "cell_type": "code",
   "execution_count": 82,
   "metadata": {},
   "outputs": [],
   "source": [
    "def remove_multiple_spaces(x):\n",
    "    return \" \".join([word for word in str(x).split()])\n",
    "data['CONTENT'] = data['CONTENT'].apply(lambda x : remove_multiple_spaces(x))"
   ]
  },
  {
   "cell_type": "code",
   "execution_count": 144,
   "metadata": {},
   "outputs": [],
   "source": [
    "data = data.drop_duplicates(subset='CONTENT', keep='first')"
   ]
  },
  {
   "cell_type": "code",
   "execution_count": 3,
   "metadata": {},
   "outputs": [],
   "source": [
    "x = data['CONTENT']\n",
    "y = data['CLASS']\n"
   ]
  },
  {
   "cell_type": "code",
   "execution_count": 4,
   "metadata": {},
   "outputs": [
    {
     "name": "stdout",
     "output_type": "stream",
     "text": [
      "  (0, 410)\t1\n",
      "  (0, 411)\t1\n",
      "  (0, 937)\t1\n",
      "  (0, 952)\t1\n",
      "  (0, 185)\t1\n",
      "  (0, 898)\t1\n",
      "  (0, 465)\t1\n",
      "  (0, 80)\t1\n",
      "  (0, 29)\t1\n",
      "  (0, 12)\t1\n",
      "  (0, 129)\t1\n",
      "  (0, 612)\t1\n",
      "  (1, 920)\t1\n",
      "  (1, 152)\t1\n",
      "  (1, 331)\t1\n",
      "  (2, 410)\t1\n",
      "  (2, 185)\t1\n",
      "  (2, 152)\t1\n",
      "  (2, 393)\t1\n",
      "  (2, 368)\t1\n",
      "  (2, 31)\t2\n",
      "  (2, 413)\t2\n",
      "  (2, 144)\t9\n",
      "  (2, 242)\t1\n",
      "  (2, 892)\t2\n",
      "  :\t:\n",
      "  (435, 95)\t1\n",
      "  (435, 847)\t1\n",
      "  (435, 291)\t1\n",
      "  (435, 120)\t1\n",
      "  (435, 568)\t1\n",
      "  (435, 824)\t1\n",
      "  (435, 673)\t1\n",
      "  (435, 395)\t1\n",
      "  (435, 343)\t1\n",
      "  (435, 520)\t1\n",
      "  (435, 632)\t1\n",
      "  (435, 902)\t1\n",
      "  (435, 844)\t1\n",
      "  (435, 238)\t1\n",
      "  (435, 579)\t1\n",
      "  (436, 816)\t1\n",
      "  (436, 314)\t1\n",
      "  (436, 836)\t1\n",
      "  (436, 865)\t1\n",
      "  (436, 516)\t1\n",
      "  (436, 409)\t1\n",
      "  (436, 219)\t1\n",
      "  (436, 505)\t1\n",
      "  (436, 705)\t1\n",
      "  (437, 570)\t1\n"
     ]
    }
   ],
   "source": [
    "# convert sting to numbers \n",
    "vectorizer = CountVectorizer( )\n",
    "featuers = vectorizer.fit_transform(x)\n",
    "print(featuers)"
   ]
  },
  {
   "cell_type": "code",
   "execution_count": 5,
   "metadata": {},
   "outputs": [],
   "source": [
    "modle = KNeighborsClassifier(n_neighbors=3)\n",
    "X_main, X_test,y_main, y_test = train_test_split(featuers,y ,\n",
    "                                   test_size = 0.2, \n",
    "                                   shuffle = True)\n",
    "X_train, X_validat, y_train, y_validat = train_test_split(X_main,y_main ,\n",
    "                                   test_size = 0.16,\n",
    "                                   shuffle = True)\n"
   ]
  },
  {
   "cell_type": "code",
   "execution_count": 6,
   "metadata": {},
   "outputs": [
    {
     "data": {
      "text/plain": [
       "[<matplotlib.lines.Line2D at 0x28fdec1db20>]"
      ]
     },
     "execution_count": 6,
     "metadata": {},
     "output_type": "execute_result"
    },
    {
     "data": {
      "image/png": "[encoded data removed]",
      "text/plain": [
       "<Figure size 432x288 with 1 Axes>"
      ]
     },
     "metadata": {
      "needs_background": "light"
     },
     "output_type": "display_data"
    }
   ],
   "source": [
    "a = []\n",
    "b =  range(1,10)\n",
    "for i in b:\n",
    "    modle = KNeighborsClassifier(n_neighbors=i, metric='euclidean')\n",
    "    modle.fit(X_train, y_train)\n",
    "    y_predict = modle.predict(X_test)\n",
    "    \n",
    "    a.append(accuracy_score(y_predict, y_test)) \n",
    "plt.plot(b, a)"
   ]
  },
  {
   "cell_type": "code",
   "execution_count": 7,
   "metadata": {},
   "outputs": [
    {
     "data": {
      "text/plain": [
       "array([1, 0, 0, 0, 0, 0, 1, 0, 0, 1, 0, 0, 0, 0, 0, 0, 1, 1, 0, 1, 1, 1,\n",
       "       1, 1, 1, 0, 0, 0, 0, 1, 0, 1, 1, 1, 1, 1, 1, 0, 0, 1, 1, 1, 0, 1,\n",
       "       1, 1, 1, 0, 1, 1, 0, 1, 1, 1, 0, 1, 1, 0, 0, 0, 1, 0, 0, 0, 1, 0,\n",
       "       1, 0, 1, 1, 0, 1, 1, 0, 0, 1, 1, 1, 1, 0, 1, 0, 1, 0, 1, 1, 0, 1],\n",
       "      dtype=int64)"
      ]
     },
     "execution_count": 7,
     "metadata": {},
     "output_type": "execute_result"
    }
   ],
   "source": [
    "y_predict"
   ]
  },
  {
   "cell_type": "code",
   "execution_count": 174,
   "metadata": {},
   "outputs": [
    {
     "name": "stdout",
     "output_type": "stream",
     "text": [
      "0.9069767441860465\n",
      "0.9302325581395349\n",
      "0.9534883720930233\n",
      "0.9767441860465116\n",
      "1.0\n"
     ]
    }
   ],
   "source": [
    "a = []\n",
    "modle = KNeighborsClassifier(n_neighbors=3, metric='euclidean')\n",
    "iter =10000\n",
    "maxacurssy = 0.89\n",
    "bestX_train, bestX_test,besty_train,besty_test = X_train, X_validat,y_train, y_validat\n",
    "\n",
    "for i in range(iter):\n",
    "    X_train, X_validat, y_train, y_validat = train_test_split(X_main,y_main ,\n",
    "                                   test_size = 0.16,\n",
    "                                   shuffle = True)\n",
    "    modle.fit(X_train, y_train)\n",
    "    accuracy = modle.score(X_validat,y_validat)\n",
    "    a.append(accuracy)\n",
    "    if maxacurssy < accuracy:\n",
    "        joblib.dump(modle,'nahini.joblib')\n",
    "        maxacurssy = accuracy\n",
    "        print(maxacurssy)\n",
    "        bestX_train, bestX_test,besty_train,besty_test = X_train, X_validat,y_train, y_validat"
   ]
  },
  {
   "cell_type": "code",
   "execution_count": 161,
   "metadata": {},
   "outputs": [
    {
     "data": {
      "text/plain": [
       "KNeighborsClassifier(metric='euclidean', n_neighbors=3)"
      ]
     },
     "execution_count": 161,
     "metadata": {},
     "output_type": "execute_result"
    }
   ],
   "source": [
    "modle.fit(bestX_train, besty_train)"
   ]
  },
  {
   "cell_type": "code",
   "execution_count": 162,
   "metadata": {},
   "outputs": [
    {
     "name": "stdout",
     "output_type": "stream",
     "text": [
      "0.9166666666666666\n"
     ]
    }
   ],
   "source": [
    "y_predict = modle.predict(X_test)\n",
    "print(accuracy_score(y_predict, y_test))"
   ]
  },
  {
   "cell_type": "code",
   "execution_count": 191,
   "metadata": {},
   "outputs": [
    {
     "name": "stdout",
     "output_type": "stream",
     "text": [
      "0.9047619047619048\n",
      "0.9166666666666666\n",
      "0.9285714285714286\n",
      "0.9523809523809523\n",
      "0.9642857142857143\n",
      "0.9761904761904762\n"
     ]
    }
   ],
   "source": [
    "a = []\n",
    "modle = KNeighborsClassifier(n_neighbors=3, metric='euclidean')\n",
    "iter =10000\n",
    "maxacurssy = 0.89\n",
    "bestX_train, bestX_test,besty_train,besty_test = X_train, X_test,y_train, y_test \n",
    "for i in range(iter):\n",
    "    X_train, X_test,y_train, y_test = train_test_split(featuers,y ,\n",
    "                                   test_size=0.25,\n",
    "                                   shuffle=True)\n",
    "    modle.fit(X_train, y_train)\n",
    "    accuracy = modle.score(X_test,y_test)\n",
    "    a.append(accuracy)\n",
    "    if maxacurssy <accuracy:\n",
    "        joblib.dump(modle,'nahini.joblib')\n",
    "        maxacurssy = accuracy\n",
    "        print(maxacurssy)\n",
    "        bestX_train, bestX_test, besty_train, besty_test = X_train, X_test, y_train, y_test"
   ]
  },
  {
   "cell_type": "code",
   "execution_count": 194,
   "metadata": {},
   "outputs": [
    {
     "name": "stdout",
     "output_type": "stream",
     "text": [
      "0.8691416666666666\n"
     ]
    }
   ],
   "source": [
    "ap = np.array(a)\n",
    "print(ap.mean())"
   ]
  },
  {
   "cell_type": "code",
   "execution_count": 196,
   "metadata": {},
   "outputs": [
    {
     "name": "stdout",
     "output_type": "stream",
     "text": [
      "0.8690476190476191\n"
     ]
    }
   ],
   "source": [
    "y_predict = modle.predict(X_test)\n",
    "\n",
    "print(accuracy_score(y_predict, y_test))"
   ]
  },
  {
   "cell_type": "code",
   "execution_count": 19,
   "metadata": {},
   "outputs": [],
   "source": [
    "def predictWithKnn(x, model, vectorizer):\n",
    "    \n",
    "    featuerspre = vectorizer.transform([str(x)])\n",
    "    y_pred = modle.predict(x)\n",
    "    return y_pred"
   ]
  },
  {
   "cell_type": "code",
   "execution_count": null,
   "metadata": {},
   "outputs": [],
   "source": []
  }
 ],
 "metadata": {
  "kernelspec": {
   "display_name": "Python 3 (ipykernel)",
   "language": "python",
   "name": "python3"
  },
  "language_info": {
   "codemirror_mode": {
    "name": "ipython",
    "version": 3
   },
   "file_extension": ".py",
   "mimetype": "text/x-python",
   "name": "python",
   "nbconvert_exporter": "python",
   "pygments_lexer": "ipython3",
   "version": "3.9.12"
  },
  "vscode": {
   "interpreter": {
    "hash": "66abd9c73c372f28a8ef98b8462078e3c895e5bf5441957c690bca4abf6b5117"
   }
  }
 },
 "nbformat": 4,
 "nbformat_minor": 2
}
