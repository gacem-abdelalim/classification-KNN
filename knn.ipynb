{
 "cells": [
  {
   "cell_type": "code",
   "execution_count": 47,
   "metadata": {},
   "outputs": [],
   "source": [
    "import pandas as pd\n",
    "import numpy as np\n",
    "import matplotlib.pyplot as plt\n",
    "from sklearn.model_selection import train_test_split\n",
    "from sklearn.feature_extraction.text import CountVectorizer\n",
    "from sklearn.neighbors import KNeighborsClassifier\n",
    "from sklearn.feature_extraction.text import TfidfVectorizer\n",
    "from sklearn.model_selection import GridSearchCV, cross_val_predict\n",
    "from sklearn.pipeline import Pipeline\n",
    "from sklearn.preprocessing import StandardScaler\n",
    "from sklearn.metrics import r2_score, mean_squared_error, accuracy_score\n",
    "from scipy import sparse\n",
    "from sklearn.pipeline import Pipeline\n",
    "from sklearn.model_selection import KFold, cross_val_score\n",
    "import joblib"
   ]
  },
  {
   "cell_type": "markdown",
   "metadata": {},
   "source": [
    "1\\. Import Data"
   ]
  },
  {
   "cell_type": "code",
   "execution_count": 102,
   "metadata": {},
   "outputs": [
    {
     "name": "stdout",
     "output_type": "stream",
     "text": [
      "                                               CONTENT\n",
      "0    <a href=\"http://www.youtube.com/watch?v=KQ6zr6...\n",
      "1                                     wierd but funny﻿\n",
      "2    Hey guys, I&#39;m a human.<br /><br /><br />Bu...\n",
      "3         Party Rock....lol...who wants to shuffle!!!﻿\n",
      "4                                          Party rock﻿\n",
      "..                                                 ...\n",
      "433                   Like this comment for no reason﻿\n",
      "434                                    love this song﻿\n",
      "435  this song is awesome. these guys are the best....\n",
      "436   HOW MANY THUMBS UP FOR LOUIS SAVING THE DAY!?!?﻿\n",
      "437                                           NICE :3﻿\n",
      "\n",
      "[438 rows x 1 columns]\n"
     ]
    }
   ],
   "source": [
    "data = pd.read_csv('theDataset/Youtube03-LMFAO.csv')\n",
    "\n",
    "data = data.drop(['COMMENT_ID', 'AUTHOR', 'DATE'], axis=1)\n",
    "# CONTENT / CLASS\n",
    "\n",
    "x=data.drop(['CLASS'], axis=1)\n",
    "y= data.drop(['CONTENT'], axis=1)\n",
    "\n",
    "print(x)"
   ]
  },
  {
   "cell_type": "markdown",
   "metadata": {},
   "source": [
    "2. PreProceessing"
   ]
  },
  {
   "cell_type": "code",
   "execution_count": 103,
   "metadata": {},
   "outputs": [],
   "source": [
    "import string"
   ]
  },
  {
   "cell_type": "code",
   "execution_count": 104,
   "metadata": {},
   "outputs": [
    {
     "name": "stdout",
     "output_type": "stream",
     "text": [
      "                                               CONTENT\n",
      "0    <a href=\"http://www.youtube.com/watch?v=kq6zr6...\n",
      "1                                     wierd but funny﻿\n",
      "2    hey guys, i&#39;m a human.<br /><br /><br />bu...\n",
      "3         party rock....lol...who wants to shuffle!!!﻿\n",
      "4                                          party rock﻿\n",
      "..                                                 ...\n",
      "433                   like this comment for no reason﻿\n",
      "434                                    love this song﻿\n",
      "435  this song is awesome. these guys are the best....\n",
      "436   how many thumbs up for louis saving the day!?!?﻿\n",
      "437                                           nice :3﻿\n",
      "\n",
      "[438 rows x 1 columns]\n"
     ]
    }
   ],
   "source": [
    "x['CONTENT'] = x['CONTENT'].str.lower()\n",
    "print(x)"
   ]
  },
  {
   "cell_type": "markdown",
   "metadata": {},
   "source": [
    "2. Stop Words "
   ]
  },
  {
   "cell_type": "code",
   "execution_count": 105,
   "metadata": {},
   "outputs": [
    {
     "name": "stderr",
     "output_type": "stream",
     "text": [
      "[nltk_data] Downloading package stopwords to C:\\Users\\Abdel\n",
      "[nltk_data]     Alim\\AppData\\Roaming\\nltk_data...\n",
      "[nltk_data]   Package stopwords is already up-to-date!\n"
     ]
    },
    {
     "data": {
      "text/plain": [
       "True"
      ]
     },
     "execution_count": 105,
     "metadata": {},
     "output_type": "execute_result"
    }
   ],
   "source": [
    "from nltk.corpus import stopwords\n",
    "import nltk\n",
    "nltk.download('stopwords')\n"
   ]
  },
  {
   "cell_type": "code",
   "execution_count": 106,
   "metadata": {},
   "outputs": [],
   "source": [
    "stop_words = set(stopwords.words('english'))"
   ]
  },
  {
   "cell_type": "code",
   "execution_count": 83,
   "metadata": {},
   "outputs": [
    {
     "name": "stdout",
     "output_type": "stream",
     "text": [
      "{\"don't\", 'didn', 'be', 'll', 'y', 'me', \"didn't\", 'had', 'an', 'or', \"you're\", 'we', 'so', 'mustn', 'few', \"needn't\", \"wasn't\", 'very', 'when', 'such', 'hadn', 'while', 'my', 'i', 'he', 'itself', 'herself', \"weren't\", 'down', 'where', 'is', \"should've\", 'were', 'now', 've', 'after', 'all', 'our', 'does', 'again', 'to', 'myself', 'them', \"mightn't\", 'haven', 'during', \"mustn't\", 'yourselves', 'until', 'the', 'what', 'has', 'o', 'by', 'same', 'if', 'just', 'of', 'can', 'she', 'they', 'shouldn', 'his', 'hasn', 'did', 'some', 'won', 'as', 'you', 'doing', 'mightn', 'in', 'over', \"couldn't\", 'being', 'ourselves', \"she's\", 'hers', 'himself', 'her', 'above', 'don', 'with', \"haven't\", 'nor', 'because', 'more', 'shan', 'under', 'there', \"hadn't\", \"shan't\", 'whom', \"that'll\", 'each', 'but', 'do', 'against', 'why', 'here', \"shouldn't\", 'd', 'wouldn', 'wasn', 'its', 'am', 'not', \"you'll\", \"isn't\", 'too', 'this', 'about', \"hasn't\", 'before', 'have', 'any', 'their', 'doesn', 'needn', \"you'd\", 'at', 'which', 'themselves', 'only', 'are', 'having', 'out', 'up', 'than', 'was', 'between', 'both', \"wouldn't\", 'no', 'these', \"it's\", 'other', 'ours', 'will', 'been', 're', 'who', 'm', 'ma', 'further', 'yours', 'your', 'once', 'theirs', \"doesn't\", 't', 'should', 'most', 'a', 'weren', 'below', 'for', 'off', 'and', 'him', 'how', 'isn', 'from', \"aren't\", 'through', 'couldn', 'then', 'that', 'aren', \"won't\", 'ain', 'those', 'into', 'yourself', \"you've\", 'it', 's', 'on', 'own'}\n"
     ]
    }
   ],
   "source": [
    "print(stop_words)"
   ]
  },
  {
   "cell_type": "code",
   "execution_count": 110,
   "metadata": {},
   "outputs": [],
   "source": [
    "def remove_stop(x):\n",
    "    return \" \".join([word for word in str(x).split() if word not in stop_words])\n",
    "x['CONTENT'] = x['CONTENT'].apply(lambda x : remove_stop(x))"
   ]
  },
  {
   "cell_type": "code",
   "execution_count": 111,
   "metadata": {},
   "outputs": [
    {
     "name": "stderr",
     "output_type": "stream",
     "text": [
      "C:\\Users\\Abdel Alim\\AppData\\Local\\Temp\\ipykernel_15848\\1734438751.py:1: FutureWarning: The default value of regex will change from True to False in a future version.\n",
      "  x['CONTENT'] = x['CONTENT'].str.replace(r'[^\\w\\s]',' ')\n"
     ]
    }
   ],
   "source": [
    "x['CONTENT'] = x['CONTENT'].str.replace(r'[^\\w\\s]',' ')"
   ]
  },
  {
   "cell_type": "code",
   "execution_count": 112,
   "metadata": {},
   "outputs": [],
   "source": [
    "def remove_multiple_spaces(x):\n",
    "    return \" \".join([word for word in str(x).split()])\n",
    "x['CONTENT'] = x['CONTENT'].apply(lambda x : remove_multiple_spaces(x))"
   ]
  },
  {
   "cell_type": "code",
   "execution_count": 24,
   "metadata": {},
   "outputs": [
    {
     "name": "stdout",
     "output_type": "stream",
     "text": [
      "                                       CONTENT\n",
      "52  see br href http adf ly http adf ly 1hmvtx\n"
     ]
    }
   ],
   "source": []
  },
  {
   "cell_type": "code",
   "execution_count": 113,
   "metadata": {},
   "outputs": [
    {
     "data": {
      "text/html": [
       "<div>\n",
       "<style scoped>\n",
       "    .dataframe tbody tr th:only-of-type {\n",
       "        vertical-align: middle;\n",
       "    }\n",
       "\n",
       "    .dataframe tbody tr th {\n",
       "        vertical-align: top;\n",
       "    }\n",
       "\n",
       "    .dataframe thead th {\n",
       "        text-align: right;\n",
       "    }\n",
       "</style>\n",
       "<table border=\"1\" class=\"dataframe\">\n",
       "  <thead>\n",
       "    <tr style=\"text-align: right;\">\n",
       "      <th></th>\n",
       "      <th>CONTENT</th>\n",
       "    </tr>\n",
       "  </thead>\n",
       "  <tbody>\n",
       "    <tr>\n",
       "      <th>0</th>\n",
       "      <td>href http www youtube com watch v kq6zr6kcpj8 ...</td>\n",
       "    </tr>\n",
       "    <tr>\n",
       "      <th>1</th>\n",
       "      <td>wierd funny</td>\n",
       "    </tr>\n",
       "    <tr>\n",
       "      <th>2</th>\n",
       "      <td>hey guys 39 human br br br 39 want human want ...</td>\n",
       "    </tr>\n",
       "    <tr>\n",
       "      <th>3</th>\n",
       "      <td>party rock lol wants shuffle</td>\n",
       "    </tr>\n",
       "    <tr>\n",
       "      <th>4</th>\n",
       "      <td>party rock</td>\n",
       "    </tr>\n",
       "    <tr>\n",
       "      <th>...</th>\n",
       "      <td>...</td>\n",
       "    </tr>\n",
       "    <tr>\n",
       "      <th>433</th>\n",
       "      <td>like comment reason</td>\n",
       "    </tr>\n",
       "    <tr>\n",
       "      <th>434</th>\n",
       "      <td>love song</td>\n",
       "    </tr>\n",
       "    <tr>\n",
       "      <th>435</th>\n",
       "      <td>song awesome guys best love video hilarious lo...</td>\n",
       "    </tr>\n",
       "    <tr>\n",
       "      <th>436</th>\n",
       "      <td>many thumbs louis saving day</td>\n",
       "    </tr>\n",
       "    <tr>\n",
       "      <th>437</th>\n",
       "      <td>nice 3</td>\n",
       "    </tr>\n",
       "  </tbody>\n",
       "</table>\n",
       "<p>438 rows × 1 columns</p>\n",
       "</div>"
      ],
      "text/plain": [
       "                                               CONTENT\n",
       "0    href http www youtube com watch v kq6zr6kcpj8 ...\n",
       "1                                          wierd funny\n",
       "2    hey guys 39 human br br br 39 want human want ...\n",
       "3                         party rock lol wants shuffle\n",
       "4                                           party rock\n",
       "..                                                 ...\n",
       "433                                like comment reason\n",
       "434                                          love song\n",
       "435  song awesome guys best love video hilarious lo...\n",
       "436                       many thumbs louis saving day\n",
       "437                                             nice 3\n",
       "\n",
       "[438 rows x 1 columns]"
      ]
     },
     "execution_count": 113,
     "metadata": {},
     "output_type": "execute_result"
    }
   ],
   "source": [
    "x"
   ]
  },
  {
   "cell_type": "code",
   "execution_count": 114,
   "metadata": {},
   "outputs": [],
   "source": [
    "x1 = x['CONTENT']\n",
    "y=data['CLASS']"
   ]
  },
  {
   "cell_type": "code",
   "execution_count": 115,
   "metadata": {},
   "outputs": [
    {
     "name": "stdout",
     "output_type": "stream",
     "text": [
      "  (0, 374)\t1\n",
      "  (0, 375)\t1\n",
      "  (0, 838)\t1\n",
      "  (0, 851)\t1\n",
      "  (0, 165)\t1\n",
      "  (0, 812)\t1\n",
      "  (0, 422)\t1\n",
      "  (0, 75)\t1\n",
      "  (0, 29)\t1\n",
      "  (0, 12)\t1\n",
      "  (0, 112)\t1\n",
      "  (0, 549)\t1\n",
      "  (1, 824)\t1\n",
      "  (1, 303)\t1\n",
      "  (2, 374)\t1\n",
      "  (2, 165)\t1\n",
      "  (2, 358)\t1\n",
      "  (2, 340)\t1\n",
      "  (2, 31)\t2\n",
      "  (2, 377)\t2\n",
      "  (2, 127)\t9\n",
      "  (2, 807)\t2\n",
      "  (2, 655)\t1\n",
      "  (2, 300)\t2\n",
      "  (2, 316)\t1\n",
      "  :\t:\n",
      "  (435, 468)\t1\n",
      "  (435, 685)\t1\n",
      "  (435, 454)\t1\n",
      "  (435, 462)\t1\n",
      "  (435, 757)\t1\n",
      "  (435, 94)\t1\n",
      "  (435, 582)\t1\n",
      "  (435, 794)\t1\n",
      "  (435, 265)\t1\n",
      "  (435, 518)\t1\n",
      "  (435, 610)\t1\n",
      "  (435, 360)\t1\n",
      "  (435, 315)\t1\n",
      "  (435, 474)\t1\n",
      "  (435, 569)\t1\n",
      "  (435, 816)\t1\n",
      "  (435, 764)\t1\n",
      "  (435, 214)\t1\n",
      "  (435, 528)\t1\n",
      "  (436, 757)\t1\n",
      "  (436, 471)\t1\n",
      "  (436, 199)\t1\n",
      "  (436, 461)\t1\n",
      "  (436, 641)\t1\n",
      "  (437, 520)\t1\n"
     ]
    }
   ],
   "source": [
    "# convert sting to numbers \n",
    "vectorizer = CountVectorizer( )\n",
    "featuers = vectorizer.fit_transform(x1)\n",
    "print(featuers)"
   ]
  },
  {
   "cell_type": "code",
   "execution_count": 116,
   "metadata": {},
   "outputs": [],
   "source": [
    "modle = KNeighborsClassifier(n_neighbors=3)\n",
    "X_train, X_test,y_train, y_test = train_test_split(featuers,y ,\n",
    "                                   test_size=0.25, \n",
    "                                   shuffle=True)\n",
    "\n"
   ]
  },
  {
   "cell_type": "code",
   "execution_count": 117,
   "metadata": {},
   "outputs": [
    {
     "data": {
      "text/plain": [
       "[<matplotlib.lines.Line2D at 0x1be588d47f0>]"
      ]
     },
     "execution_count": 117,
     "metadata": {},
     "output_type": "execute_result"
    },
    {
     "data": {
      "image/png": "[encoded data removed]",
      "text/plain": [
       "<Figure size 432x288 with 1 Axes>"
      ]
     },
     "metadata": {
      "needs_background": "light"
     },
     "output_type": "display_data"
    }
   ],
   "source": [
    "a = []\n",
    "b =  range(1,10)\n",
    "for i in b:\n",
    "    modle = KNeighborsClassifier(n_neighbors=i)\n",
    "    modle.fit(X_train, y_train) \n",
    "    y_predict = modle.predict(X_test)\n",
    "    \n",
    "    a.append(accuracy_score(y_predict, y_test)) \n",
    "plt.plot(b, a)"
   ]
  },
  {
   "cell_type": "code",
   "execution_count": 118,
   "metadata": {},
   "outputs": [
    {
     "name": "stdout",
     "output_type": "stream",
     "text": [
      "0.9181818181818182\n",
      "0.9454545454545454\n",
      "0.9545454545454546\n",
      "0.9636363636363636\n",
      "0.9727272727272728\n",
      "0.9818181818181818\n"
     ]
    }
   ],
   "source": [
    "modle = KNeighborsClassifier(n_neighbors=3)\n",
    "iter =10000\n",
    "maxacurssy = 0.89\n",
    "bestX_train, bestX_test,besty_train,besty_test = X_train, X_test,y_train, y_test \n",
    "for i in range(iter):\n",
    "    X_train, X_test,y_train, y_test = train_test_split(featuers,y ,\n",
    "                                   test_size=0.25, \n",
    "                                   shuffle=True)\n",
    "    modle.fit(X_train, y_train) \n",
    "    \n",
    "    if maxacurssy <modle.score(X_test,y_test):\n",
    "        joblib.dump(modle,'nahini.joblib')\n",
    "        maxacurssy = modle.score(X_test,y_test)\n",
    "        print(maxacurssy)\n",
    "        bestX_train, bestX_test,besty_train,besty_test = X_train, X_test,y_train, y_test"
   ]
  },
  {
   "cell_type": "code",
   "execution_count": 99,
   "metadata": {},
   "outputs": [
    {
     "name": "stdout",
     "output_type": "stream",
     "text": [
      "0.956989247311828\n"
     ]
    }
   ],
   "source": [
    "X_train, X_test,y_train, y_test = bestX_train, bestX_test,besty_train,besty_test\n",
    "modle = KNeighborsClassifier(n_neighbors=3)\n",
    "modle.fit(X_train, y_train) \n",
    "y_predict = modle.predict(X_test)\n",
    "\n",
    "print(accuracy_score(y_predict, y_test))"
   ]
  },
  {
   "cell_type": "code",
   "execution_count": 19,
   "metadata": {},
   "outputs": [],
   "source": [
    "def predictWithKnn(self, x, model, vectorizer):\n",
    "    \n",
    "    featuerspre = vectorizer.transform([str(x)])\n",
    "    y_pred = modle.predict(x)\n",
    "    return y_pred"
   ]
  },
  {
   "cell_type": "code",
   "execution_count": null,
   "metadata": {},
   "outputs": [],
   "source": []
  }
 ],
 "metadata": {
  "kernelspec": {
   "display_name": "Python 3 (ipykernel)",
   "language": "python",
   "name": "python3"
  },
  "language_info": {
   "codemirror_mode": {
    "name": "ipython",
    "version": 3
   },
   "file_extension": ".py",
   "mimetype": "text/x-python",
   "name": "python",
   "nbconvert_exporter": "python",
   "pygments_lexer": "ipython3",
   "version": "3.9.12"
  },
  "vscode": {
   "interpreter": {
    "hash": "66abd9c73c372f28a8ef98b8462078e3c895e5bf5441957c690bca4abf6b5117"
   }
  }
 },
 "nbformat": 4,
 "nbformat_minor": 2
}
