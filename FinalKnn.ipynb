{
 "cells": [
  {
   "cell_type": "code",
   "execution_count": 1,
   "metadata": {},
   "outputs": [
    {
     "name": "stderr",
     "output_type": "stream",
     "text": [
      "[nltk_data] Downloading package stopwords to C:\\Users\\Abdel\n",
      "[nltk_data]     Alim\\AppData\\Roaming\\nltk_data...\n",
      "[nltk_data]   Package stopwords is already up-to-date!\n"
     ]
    }
   ],
   "source": [
    "\n",
    "import pandas as pd\n",
    "import numpy as np\n",
    "import matplotlib.pyplot as plt\n",
    "\n",
    "from sklearn.model_selection import train_test_split\n",
    "from sklearn.feature_extraction.text import CountVectorizer\n",
    "from sklearn.neighbors import KNeighborsClassifier\n",
    "from sklearn.feature_extraction.text import TfidfVectorizer\n",
    "from sklearn.preprocessing import StandardScaler\n",
    "from sklearn.metrics import accuracy_score, confusion_matrix\n",
    "\n",
    "\n",
    "from nltk.corpus import stopwords\n",
    "import nltk\n",
    "nltk.download('stopwords')\n",
    "\n",
    "import warnings\n",
    "warnings.filterwarnings('ignore')\n",
    "\n"
   ]
  },
  {
   "cell_type": "code",
   "execution_count": 32,
   "metadata": {},
   "outputs": [
    {
     "data": {
      "text/plain": [
       "\"i,me,my,myself,we,our,ours,ourselves,you,you're,you've,you'll,you'd,your,yours,yourself,yourselves,he,him,his,himself,she,she's,her,hers,herself,it,it's,its,itself,they,them,their,theirs,themselves,what,which,who,whom,this,that,that'll,these,those,am,is,are,was,were,be,been,being,have,has,had,having,do,does,did,doing,a,an,the,and,but,if,or,because,as,until,while,of,at,by,for,with,about,against,between,into,through,during,before,after,above,below,to,from,up,down,in,out,on,off,over,under,again,further,then,once,here,there,when,where,why,how,all,any,both,each,few,more,most,other,some,such,no,nor,not,only,own,same,so,than,too,very,s,t,can,will,just,don,don't,should,should've,now,d,ll,m,o,re,ve,y,ain,aren,aren't,couldn,couldn't,didn,didn't,doesn,doesn't,hadn,hadn't,hasn,hasn't,haven,haven't,isn,isn't,ma,mightn,mightn't,mustn,mustn't,needn,needn't,shan,shan't,shouldn,shouldn't,wasn,wasn't,weren,weren't,won,won't,wouldn,wouldn't\""
      ]
     },
     "execution_count": 32,
     "metadata": {},
     "output_type": "execute_result"
    }
   ],
   "source": [
    "\",\".join(stopwords.words('english'))\n"
   ]
  },
  {
   "cell_type": "code",
   "execution_count": 2,
   "metadata": {},
   "outputs": [],
   "source": [
    "stop_words = set(stopwords.words('english'))\n",
    "def remove_stop(x):\n",
    "    return \" \".join([word for word in str(x).split() if word not in stop_words])\n",
    "def remove_multiple_spaces(x):\n",
    "    return \" \".join([word for word in str(x).split()])\n",
    "def preprocessing(data):\n",
    "    data = data.drop(['COMMENT_ID', 'AUTHOR', 'DATE'], axis=1)\n",
    "    data['CONTENT'] = data['CONTENT'].str.lower()\n",
    "    data['CONTENT'] = data['CONTENT'].str.replace(r'.com/(?:[a-zA-Z]|[0-9]|[$-_@.&+]|[!*\\(\\),])+',' ')\n",
    "    data['CONTENT'] = data['CONTENT'].str.replace(r'[^\\w\\s]',' ')\n",
    "    data['CONTENT'] = data['CONTENT'].apply(lambda x : remove_multiple_spaces(x))\n",
    "    data['CONTENT'] = data['CONTENT'].apply(lambda x : remove_stop(x))\n",
    "    data = data.drop_duplicates(subset='CONTENT', keep='first')\n",
    "    x = data['CONTENT']\n",
    "    y = data['CLASS']\n",
    "    return(x,y)"
   ]
  },
  {
   "cell_type": "code",
   "execution_count": 6,
   "metadata": {},
   "outputs": [],
   "source": [
    "#The function returns the best value of K based on the highest mean accuracy of the validation set.\n",
    "def best_k(X_main, y_main, iter, range_of_neighbors):   \n",
    "    # Initializing empty lists to store the mean accuracy of the training and validation sets\n",
    "    accuracy_mean_train = []\n",
    "    accuracy_mean_valid = []\n",
    "    # Iterating over the range of neighbors\n",
    "    for k in range(1, range_of_neighbors):\n",
    "        # Initializing empty lists to store accuracy for each iteration\n",
    "        accuracy_K_train= []\n",
    "        accuracy_K_valid= []\n",
    "        # Creating the KNeighborsClassifier model with \"k\" number of neighbors and euclidean distance metric\n",
    "        modle = KNeighborsClassifier(n_neighbors=k, metric='euclidean')\n",
    "        # Training and evaluating the model for \"iter\" number of times\n",
    "        for i in range(iter):\n",
    "            # Splitting the data into training and validation sets\n",
    "            X_train, X_validat, y_train, y_validat = train_test_split(X_main,y_main ,\n",
    "                                    test_size = 0.16,\n",
    "                                    shuffle = True)\n",
    "            # Fitting the model on the training set\n",
    "            modle.fit(X_train, y_train)\n",
    "            # Calculating accuracy on the training set\n",
    "            accuracy_train = modle.score(X_train,y_train)\n",
    "            # Calculating accuracy on the validation set\n",
    "            accuracy_valid = modle.score(X_validat,y_validat)\n",
    "            # Appending the accuracy scores to their respective lists\n",
    "            accuracy_K_train.append(accuracy_train)\n",
    "            accuracy_K_valid.append(accuracy_valid)\n",
    "            \n",
    "        # Converting the accuracy lists to numpy arrays\n",
    "        e = np.array(accuracy_K_train)\n",
    "        f = np.array(accuracy_K_valid)\n",
    "        print(k, e.mean(), f.mean())\n",
    "        # Appending the mean accuracy scores to their respective lists\n",
    "        accuracy_mean_train.append(e.mean())\n",
    "        accuracy_mean_valid.append(f.mean())\n",
    "    # Converting the accuracy lists to numpy arrays\n",
    "    m = np.array(accuracy_mean_valid)\n",
    "    # Finding the index of the highest mean accuracy of the validation set\n",
    "    bestK = np.where(m == m.max())\n",
    "    n = np.array(accuracy_mean_train)\n",
    "    # Plotting the accuracy vs K graph\n",
    "    plt.plot(range(1, range_of_neighbors), m, label = 'validation accuracy', color = 'blue')\n",
    "    plt.plot(range(1, range_of_neighbors), n, label = 'training accuracy'  , color = 'orange')\n",
    "    plt.xlabel(\"kneighbors\")\n",
    "    plt.ylabel(\"accuracy\")\n",
    "    plt.legend()\n",
    "    return bestK[0] + 1\n"
   ]
  },
  {
   "attachments": {},
   "cell_type": "markdown",
   "metadata": {},
   "source": [
    "MAIN FUNCTION"
   ]
  },
  {
   "cell_type": "code",
   "execution_count": 4,
   "metadata": {},
   "outputs": [
    {
     "name": "stdout",
     "output_type": "stream",
     "text": [
      "1 1.0 0.8793181818181818\n",
      "2 0.8773451327433627 0.7909090909090909\n",
      "3 0.9401769911504425 0.895909090909091\n",
      "4 0.8919469026548673 0.8265909090909092\n",
      "5 0.9161504424778759 0.8788636363636365\n",
      "6 0.8766371681415929 0.8227272727272726\n",
      "7 0.9048230088495576 0.8727272727272727\n",
      "8 0.8673893805309735 0.8304545454545454\n",
      "9 0.897787610619469 0.8604545454545455\n",
      "10 0.862787610619469 0.8195454545454547\n",
      "11 0.8888938053097345 0.8618181818181818\n",
      "12 0.8628318584070795 0.8181818181818182\n",
      "13 0.8868141592920356 0.8543181818181818\n",
      "14 0.8519911504424781 0.8065909090909092\n",
      "15 0.8728318584070798 0.8495454545454545\n",
      "16 0.8392035398230088 0.7895454545454547\n",
      "17 0.8576991150442478 0.8129545454545454\n",
      "18 0.8222123893805309 0.7731818181818183\n",
      "19 0.8384070796460176 0.8011363636363636\n",
      "20 0.7991150442477875 0.7645454545454545\n",
      "21 0.8250000000000002 0.7909090909090909\n",
      "22 0.7869026548672567 0.7770454545454545\n",
      "23 0.8103539823008852 0.7775\n",
      "24 0.7746017699115043 0.7363636363636364\n",
      "25 0.7966371681415929 0.764772727272727\n",
      "26 0.7549999999999999 0.7215909090909091\n",
      "27 0.7836283185840709 0.7529545454545453\n",
      "28 0.7438495575221239 0.6952272727272727\n",
      "29 0.7645575221238938 0.7338636363636363\n",
      "30 0.7195132743362831 0.6840909090909092\n",
      "31 0.7455309734513275 0.6940909090909091\n",
      "32 0.7165929203539824 0.6895454545454547\n",
      "33 0.7332300884955752 0.6961363636363638\n",
      "34 0.6951769911504425 0.6597727272727275\n",
      "35 0.7267256637168142 0.6881818181818182\n",
      "36 0.6776991150442478 0.6527272727272727\n",
      "37 0.6897787610619468 0.6493181818181817\n",
      "38 0.6799557522123892 0.6593181818181817\n",
      "39 0.6946017699115045 0.6663636363636365\n",
      "40 0.675 0.6565909090909092\n",
      "41 0.6915044247787612 0.6561363636363636\n",
      "42 0.6669469026548671 0.6436363636363636\n",
      "43 0.6992035398230086 0.6731818181818183\n",
      "44 0.650929203539823 0.6306818181818182\n",
      "45 0.6915486725663718 0.668409090909091\n",
      "46 0.6553539823008849 0.635\n",
      "47 0.6903539823008848 0.6613636363636366\n",
      "48 0.651061946902655 0.6118181818181818\n",
      "49 0.67358407079646 0.6465909090909091\n",
      "50 0.6500442477876106 0.6247727272727274\n",
      "51 0.690575221238938 0.6363636363636365\n",
      "52 0.6588053097345132 0.6281818181818182\n",
      "53 0.6842035398230089 0.655\n",
      "54 0.6582300884955754 0.624090909090909\n",
      "55 0.6832300884955751 0.6540909090909091\n",
      "56 0.6628761061946902 0.6484090909090908\n",
      "57 0.6846460176991148 0.6497727272727274\n",
      "58 0.6636725663716816 0.6315909090909091\n",
      "59 0.6758407079646018 0.6336363636363636\n",
      "60 0.6579646017699115 0.6227272727272727\n",
      "61 0.6846902654867254 0.6529545454545455\n",
      "62 0.6602654867256637 0.6179545454545454\n",
      "63 0.6915486725663716 0.6593181818181819\n",
      "64 0.671637168141593 0.6581818181818181\n",
      "65 0.6952654867256638 0.6575\n",
      "66 0.669557522123894 0.6531818181818183\n",
      "67 0.6997787610619468 0.6725\n",
      "68 0.675 0.6454545454545455\n",
      "69 0.6819911504424779 0.6381818181818182\n",
      "70 0.6454867256637168 0.6179545454545454\n",
      "71 0.6905309734513274 0.6570454545454544\n",
      "72 0.6546902654867256 0.6227272727272726\n",
      "73 0.6860619469026547 0.6561363636363637\n",
      "74 0.6518141592920353 0.6125\n",
      "75 0.6923451327433628 0.6643181818181817\n",
      "76 0.6746017699115047 0.6438636363636364\n",
      "77 0.6749115044247788 0.6368181818181818\n",
      "78 0.6646460176991149 0.6202272727272727\n",
      "79 0.7075663716814159 0.6940909090909091\n",
      "80 0.6638495575221239 0.6368181818181818\n",
      "81 0.6927876106194689 0.6559090909090908\n",
      "82 0.6469026548672566 0.6259090909090909\n",
      "83 0.6915486725663714 0.673409090909091\n",
      "84 0.6498230088495575 0.6193181818181819\n",
      "85 0.6798230088495576 0.6431818181818181\n",
      "86 0.648716814159292 0.6202272727272727\n",
      "87 0.6665044247787609 0.6318181818181818\n",
      "88 0.6673893805309734 0.6486363636363636\n",
      "89 0.6732743362831858 0.6281818181818182\n",
      "90 0.6522566371681415 0.6227272727272727\n",
      "91 0.6673451327433628 0.6211363636363635\n",
      "92 0.6752212389380532 0.6475\n",
      "93 0.6789823008849557 0.6356818181818181\n",
      "94 0.6530530973451327 0.6238636363636363\n",
      "95 0.6785840707964601 0.6372727272727272\n",
      "96 0.6749115044247789 0.6368181818181818\n",
      "97 0.7011061946902655 0.6790909090909093\n",
      "98 0.6636725663716813 0.6281818181818182\n",
      "99 0.6686725663716813 0.6211363636363636\n",
      "accuracy test 0.9117647058823529\n",
      "[[38  0]\n",
      " [ 6 24]]\n"
     ]
    },
    {
     "data": {
      "image/png": "[encoded data removed]",
      "text/plain": [
       "<Figure size 432x288 with 1 Axes>"
      ]
     },
     "metadata": {
      "needs_background": "light"
     },
     "output_type": "display_data"
    }
   ],
   "source": [
    "# Read the csv file containing YouTube comments\n",
    "data = pd.read_csv('Youtube01-Psy.csv')\n",
    "# Preprocess the data to extract features (x) and target (y) variables\n",
    "x, y = preprocessing(data)\n",
    "# Initialize the CountVectorizer object to convert the text data into a numerical representation\n",
    "vectorizer = CountVectorizer()\n",
    "# Fit and transform the text data using the CountVectorizer object\n",
    "featuers = vectorizer.fit_transform(x)\n",
    "# Set number of iterations and range of number of neighbors to consider\n",
    "iter = 100\n",
    "range_of_neighbors = 100\n",
    "# Split the data into main data (80% for training and validation), and test data (20%)\n",
    "X_main, X_test, y_main, y_test = train_test_split(featuers,y , test_size = 0.2, shuffle = True)\n",
    "\n",
    "# Split the main data into train data and validation data so we will get 60% train data, 20% validation data, 20% test data)\n",
    "X_train, X_validat, y_train, y_validat = train_test_split(X_main,y_main , test_size = 0.16, shuffle = True)\n",
    "\n",
    "# Find the best value for the number of nearest neighbors (k) using the \"best_k\" function\n",
    "a = best_k(X_main,y_main,iter,range_of_neighbors)\n",
    "\n",
    "# Initialize the K-Nearest Neighbors (KNN) classifier object using the best value for k\n",
    "modle = KNeighborsClassifier(n_neighbors=int(a), metric='euclidean')\n",
    "\n",
    "# Fit the KNN model using the training data\n",
    "modle.fit(X_train, y_train)\n",
    "\n",
    "# Evaluate the accuracy of the KNN model on the test data\n",
    "print(\"accuracy test\", modle.score(X_test,y_test))\n",
    "pred_test = modle.predict(X_test)\n",
    "print(confusion_matrix(y_test,pred_test))\n"
   ]
  },
  {
   "cell_type": "code",
   "execution_count": 5,
   "metadata": {},
   "outputs": [
    {
     "name": "stdout",
     "output_type": "stream",
     "text": [
      "[3]\n"
     ]
    }
   ],
   "source": [
    "print(a)"
   ]
  }
 ],
 "metadata": {
  "kernelspec": {
   "display_name": "base",
   "language": "python",
   "name": "python3"
  },
  "language_info": {
   "codemirror_mode": {
    "name": "ipython",
    "version": 3
   },
   "file_extension": ".py",
   "mimetype": "text/x-python",
   "name": "python",
   "nbconvert_exporter": "python",
   "pygments_lexer": "ipython3",
   "version": "3.9.12"
  },
  "orig_nbformat": 4,
  "vscode": {
   "interpreter": {
    "hash": "66abd9c73c372f28a8ef98b8462078e3c895e5bf5441957c690bca4abf6b5117"
   }
  }
 },
 "nbformat": 4,
 "nbformat_minor": 2
}
